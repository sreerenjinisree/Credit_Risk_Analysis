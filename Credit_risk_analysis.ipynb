{
  "nbformat": 4,
  "nbformat_minor": 0,
  "metadata": {
    "colab": {
      "provenance": []
    },
    "kernelspec": {
      "name": "python3",
      "display_name": "Python 3"
    },
    "language_info": {
      "name": "python"
    }
  },
  "cells": [
    {
      "cell_type": "markdown",
      "source": [
        "**Importing  Libraries**"
      ],
      "metadata": {
        "id": "zNqiXal1rzI4"
      }
    },
    {
      "cell_type": "code",
      "execution_count": null,
      "metadata": {
        "id": "PTtvcfZ-3xqo"
      },
      "outputs": [],
      "source": [
        "import numpy as np\n",
        "import pandas as pd\n",
        "import seaborn as sns\n",
        "import matplotlib.pyplot as plt\n",
        "from sklearn.preprocessing import LabelEncoder\n",
        "from sklearn.model_selection import train_test_split\n",
        "from sklearn.preprocessing import StandardScaler\n",
        "from sklearn.metrics import accuracy_score,confusion_matrix\n",
        "from sklearn.metrics import ConfusionMatrixDisplay\n",
        "from sklearn.metrics import classification_report\n",
        "\n",
        "\n"
      ]
    },
    {
      "cell_type": "code",
      "source": [
        "df=pd.read_csv(\"/content/credit_risk_dataset.csv\")\n",
        "df"
      ],
      "metadata": {
        "colab": {
          "base_uri": "https://localhost:8080/",
          "height": 443
        },
        "id": "vLbT5qh6EB5t",
        "outputId": "e671aa93-2e4f-48c9-e611-64e0f6eb03b0"
      },
      "execution_count": null,
      "outputs": [
        {
          "output_type": "execute_result",
          "data": {
            "text/plain": [
              "       person_age  person_income person_home_ownership  person_emp_length  \\\n",
              "0              22          59000                  RENT              123.0   \n",
              "1              21           9600                   OWN                5.0   \n",
              "2              25           9600              MORTGAGE                1.0   \n",
              "3              23          65500                  RENT                4.0   \n",
              "4              24          54400                  RENT                8.0   \n",
              "...           ...            ...                   ...                ...   \n",
              "32576          57          53000              MORTGAGE                1.0   \n",
              "32577          54         120000              MORTGAGE                4.0   \n",
              "32578          65          76000                  RENT                3.0   \n",
              "32579          56         150000              MORTGAGE                5.0   \n",
              "32580          66          42000                  RENT                2.0   \n",
              "\n",
              "           loan_intent loan_grade  loan_amnt  loan_int_rate  loan_status  \\\n",
              "0             PERSONAL          D      35000          16.02            1   \n",
              "1            EDUCATION          B       1000          11.14            0   \n",
              "2              MEDICAL          C       5500          12.87            1   \n",
              "3              MEDICAL          C      35000          15.23            1   \n",
              "4              MEDICAL          C      35000          14.27            1   \n",
              "...                ...        ...        ...            ...          ...   \n",
              "32576         PERSONAL          C       5800          13.16            0   \n",
              "32577         PERSONAL          A      17625           7.49            0   \n",
              "32578  HOMEIMPROVEMENT          B      35000          10.99            1   \n",
              "32579         PERSONAL          B      15000          11.48            0   \n",
              "32580          MEDICAL          B       6475           9.99            0   \n",
              "\n",
              "       loan_percent_income cb_person_default_on_file  \\\n",
              "0                     0.59                         Y   \n",
              "1                     0.10                         N   \n",
              "2                     0.57                         N   \n",
              "3                     0.53                         N   \n",
              "4                     0.55                         Y   \n",
              "...                    ...                       ...   \n",
              "32576                 0.11                         N   \n",
              "32577                 0.15                         N   \n",
              "32578                 0.46                         N   \n",
              "32579                 0.10                         N   \n",
              "32580                 0.15                         N   \n",
              "\n",
              "       cb_person_cred_hist_length  \n",
              "0                               3  \n",
              "1                               2  \n",
              "2                               3  \n",
              "3                               2  \n",
              "4                               4  \n",
              "...                           ...  \n",
              "32576                          30  \n",
              "32577                          19  \n",
              "32578                          28  \n",
              "32579                          26  \n",
              "32580                          30  \n",
              "\n",
              "[32581 rows x 12 columns]"
            ],
            "text/html": [
              "\n",
              "  <div id=\"df-c970b07d-a751-47d2-b73a-52bf3a6c5313\" class=\"colab-df-container\">\n",
              "    <div>\n",
              "<style scoped>\n",
              "    .dataframe tbody tr th:only-of-type {\n",
              "        vertical-align: middle;\n",
              "    }\n",
              "\n",
              "    .dataframe tbody tr th {\n",
              "        vertical-align: top;\n",
              "    }\n",
              "\n",
              "    .dataframe thead th {\n",
              "        text-align: right;\n",
              "    }\n",
              "</style>\n",
              "<table border=\"1\" class=\"dataframe\">\n",
              "  <thead>\n",
              "    <tr style=\"text-align: right;\">\n",
              "      <th></th>\n",
              "      <th>person_age</th>\n",
              "      <th>person_income</th>\n",
              "      <th>person_home_ownership</th>\n",
              "      <th>person_emp_length</th>\n",
              "      <th>loan_intent</th>\n",
              "      <th>loan_grade</th>\n",
              "      <th>loan_amnt</th>\n",
              "      <th>loan_int_rate</th>\n",
              "      <th>loan_status</th>\n",
              "      <th>loan_percent_income</th>\n",
              "      <th>cb_person_default_on_file</th>\n",
              "      <th>cb_person_cred_hist_length</th>\n",
              "    </tr>\n",
              "  </thead>\n",
              "  <tbody>\n",
              "    <tr>\n",
              "      <th>0</th>\n",
              "      <td>22</td>\n",
              "      <td>59000</td>\n",
              "      <td>RENT</td>\n",
              "      <td>123.0</td>\n",
              "      <td>PERSONAL</td>\n",
              "      <td>D</td>\n",
              "      <td>35000</td>\n",
              "      <td>16.02</td>\n",
              "      <td>1</td>\n",
              "      <td>0.59</td>\n",
              "      <td>Y</td>\n",
              "      <td>3</td>\n",
              "    </tr>\n",
              "    <tr>\n",
              "      <th>1</th>\n",
              "      <td>21</td>\n",
              "      <td>9600</td>\n",
              "      <td>OWN</td>\n",
              "      <td>5.0</td>\n",
              "      <td>EDUCATION</td>\n",
              "      <td>B</td>\n",
              "      <td>1000</td>\n",
              "      <td>11.14</td>\n",
              "      <td>0</td>\n",
              "      <td>0.10</td>\n",
              "      <td>N</td>\n",
              "      <td>2</td>\n",
              "    </tr>\n",
              "    <tr>\n",
              "      <th>2</th>\n",
              "      <td>25</td>\n",
              "      <td>9600</td>\n",
              "      <td>MORTGAGE</td>\n",
              "      <td>1.0</td>\n",
              "      <td>MEDICAL</td>\n",
              "      <td>C</td>\n",
              "      <td>5500</td>\n",
              "      <td>12.87</td>\n",
              "      <td>1</td>\n",
              "      <td>0.57</td>\n",
              "      <td>N</td>\n",
              "      <td>3</td>\n",
              "    </tr>\n",
              "    <tr>\n",
              "      <th>3</th>\n",
              "      <td>23</td>\n",
              "      <td>65500</td>\n",
              "      <td>RENT</td>\n",
              "      <td>4.0</td>\n",
              "      <td>MEDICAL</td>\n",
              "      <td>C</td>\n",
              "      <td>35000</td>\n",
              "      <td>15.23</td>\n",
              "      <td>1</td>\n",
              "      <td>0.53</td>\n",
              "      <td>N</td>\n",
              "      <td>2</td>\n",
              "    </tr>\n",
              "    <tr>\n",
              "      <th>4</th>\n",
              "      <td>24</td>\n",
              "      <td>54400</td>\n",
              "      <td>RENT</td>\n",
              "      <td>8.0</td>\n",
              "      <td>MEDICAL</td>\n",
              "      <td>C</td>\n",
              "      <td>35000</td>\n",
              "      <td>14.27</td>\n",
              "      <td>1</td>\n",
              "      <td>0.55</td>\n",
              "      <td>Y</td>\n",
              "      <td>4</td>\n",
              "    </tr>\n",
              "    <tr>\n",
              "      <th>...</th>\n",
              "      <td>...</td>\n",
              "      <td>...</td>\n",
              "      <td>...</td>\n",
              "      <td>...</td>\n",
              "      <td>...</td>\n",
              "      <td>...</td>\n",
              "      <td>...</td>\n",
              "      <td>...</td>\n",
              "      <td>...</td>\n",
              "      <td>...</td>\n",
              "      <td>...</td>\n",
              "      <td>...</td>\n",
              "    </tr>\n",
              "    <tr>\n",
              "      <th>32576</th>\n",
              "      <td>57</td>\n",
              "      <td>53000</td>\n",
              "      <td>MORTGAGE</td>\n",
              "      <td>1.0</td>\n",
              "      <td>PERSONAL</td>\n",
              "      <td>C</td>\n",
              "      <td>5800</td>\n",
              "      <td>13.16</td>\n",
              "      <td>0</td>\n",
              "      <td>0.11</td>\n",
              "      <td>N</td>\n",
              "      <td>30</td>\n",
              "    </tr>\n",
              "    <tr>\n",
              "      <th>32577</th>\n",
              "      <td>54</td>\n",
              "      <td>120000</td>\n",
              "      <td>MORTGAGE</td>\n",
              "      <td>4.0</td>\n",
              "      <td>PERSONAL</td>\n",
              "      <td>A</td>\n",
              "      <td>17625</td>\n",
              "      <td>7.49</td>\n",
              "      <td>0</td>\n",
              "      <td>0.15</td>\n",
              "      <td>N</td>\n",
              "      <td>19</td>\n",
              "    </tr>\n",
              "    <tr>\n",
              "      <th>32578</th>\n",
              "      <td>65</td>\n",
              "      <td>76000</td>\n",
              "      <td>RENT</td>\n",
              "      <td>3.0</td>\n",
              "      <td>HOMEIMPROVEMENT</td>\n",
              "      <td>B</td>\n",
              "      <td>35000</td>\n",
              "      <td>10.99</td>\n",
              "      <td>1</td>\n",
              "      <td>0.46</td>\n",
              "      <td>N</td>\n",
              "      <td>28</td>\n",
              "    </tr>\n",
              "    <tr>\n",
              "      <th>32579</th>\n",
              "      <td>56</td>\n",
              "      <td>150000</td>\n",
              "      <td>MORTGAGE</td>\n",
              "      <td>5.0</td>\n",
              "      <td>PERSONAL</td>\n",
              "      <td>B</td>\n",
              "      <td>15000</td>\n",
              "      <td>11.48</td>\n",
              "      <td>0</td>\n",
              "      <td>0.10</td>\n",
              "      <td>N</td>\n",
              "      <td>26</td>\n",
              "    </tr>\n",
              "    <tr>\n",
              "      <th>32580</th>\n",
              "      <td>66</td>\n",
              "      <td>42000</td>\n",
              "      <td>RENT</td>\n",
              "      <td>2.0</td>\n",
              "      <td>MEDICAL</td>\n",
              "      <td>B</td>\n",
              "      <td>6475</td>\n",
              "      <td>9.99</td>\n",
              "      <td>0</td>\n",
              "      <td>0.15</td>\n",
              "      <td>N</td>\n",
              "      <td>30</td>\n",
              "    </tr>\n",
              "  </tbody>\n",
              "</table>\n",
              "<p>32581 rows × 12 columns</p>\n",
              "</div>\n",
              "    <div class=\"colab-df-buttons\">\n",
              "\n",
              "  <div class=\"colab-df-container\">\n",
              "    <button class=\"colab-df-convert\" onclick=\"convertToInteractive('df-c970b07d-a751-47d2-b73a-52bf3a6c5313')\"\n",
              "            title=\"Convert this dataframe to an interactive table.\"\n",
              "            style=\"display:none;\">\n",
              "\n",
              "  <svg xmlns=\"http://www.w3.org/2000/svg\" height=\"24px\" viewBox=\"0 -960 960 960\">\n",
              "    <path d=\"M120-120v-720h720v720H120Zm60-500h600v-160H180v160Zm220 220h160v-160H400v160Zm0 220h160v-160H400v160ZM180-400h160v-160H180v160Zm440 0h160v-160H620v160ZM180-180h160v-160H180v160Zm440 0h160v-160H620v160Z\"/>\n",
              "  </svg>\n",
              "    </button>\n",
              "\n",
              "  <style>\n",
              "    .colab-df-container {\n",
              "      display:flex;\n",
              "      gap: 12px;\n",
              "    }\n",
              "\n",
              "    .colab-df-convert {\n",
              "      background-color: #E8F0FE;\n",
              "      border: none;\n",
              "      border-radius: 50%;\n",
              "      cursor: pointer;\n",
              "      display: none;\n",
              "      fill: #1967D2;\n",
              "      height: 32px;\n",
              "      padding: 0 0 0 0;\n",
              "      width: 32px;\n",
              "    }\n",
              "\n",
              "    .colab-df-convert:hover {\n",
              "      background-color: #E2EBFA;\n",
              "      box-shadow: 0px 1px 2px rgba(60, 64, 67, 0.3), 0px 1px 3px 1px rgba(60, 64, 67, 0.15);\n",
              "      fill: #174EA6;\n",
              "    }\n",
              "\n",
              "    .colab-df-buttons div {\n",
              "      margin-bottom: 4px;\n",
              "    }\n",
              "\n",
              "    [theme=dark] .colab-df-convert {\n",
              "      background-color: #3B4455;\n",
              "      fill: #D2E3FC;\n",
              "    }\n",
              "\n",
              "    [theme=dark] .colab-df-convert:hover {\n",
              "      background-color: #434B5C;\n",
              "      box-shadow: 0px 1px 3px 1px rgba(0, 0, 0, 0.15);\n",
              "      filter: drop-shadow(0px 1px 2px rgba(0, 0, 0, 0.3));\n",
              "      fill: #FFFFFF;\n",
              "    }\n",
              "  </style>\n",
              "\n",
              "    <script>\n",
              "      const buttonEl =\n",
              "        document.querySelector('#df-c970b07d-a751-47d2-b73a-52bf3a6c5313 button.colab-df-convert');\n",
              "      buttonEl.style.display =\n",
              "        google.colab.kernel.accessAllowed ? 'block' : 'none';\n",
              "\n",
              "      async function convertToInteractive(key) {\n",
              "        const element = document.querySelector('#df-c970b07d-a751-47d2-b73a-52bf3a6c5313');\n",
              "        const dataTable =\n",
              "          await google.colab.kernel.invokeFunction('convertToInteractive',\n",
              "                                                    [key], {});\n",
              "        if (!dataTable) return;\n",
              "\n",
              "        const docLinkHtml = 'Like what you see? Visit the ' +\n",
              "          '<a target=\"_blank\" href=https://colab.research.google.com/notebooks/data_table.ipynb>data table notebook</a>'\n",
              "          + ' to learn more about interactive tables.';\n",
              "        element.innerHTML = '';\n",
              "        dataTable['output_type'] = 'display_data';\n",
              "        await google.colab.output.renderOutput(dataTable, element);\n",
              "        const docLink = document.createElement('div');\n",
              "        docLink.innerHTML = docLinkHtml;\n",
              "        element.appendChild(docLink);\n",
              "      }\n",
              "    </script>\n",
              "  </div>\n",
              "\n",
              "\n",
              "<div id=\"df-3c1bf8c2-9ac6-41aa-9170-ef3a59c2fbd1\">\n",
              "  <button class=\"colab-df-quickchart\" onclick=\"quickchart('df-3c1bf8c2-9ac6-41aa-9170-ef3a59c2fbd1')\"\n",
              "            title=\"Suggest charts\"\n",
              "            style=\"display:none;\">\n",
              "\n",
              "<svg xmlns=\"http://www.w3.org/2000/svg\" height=\"24px\"viewBox=\"0 0 24 24\"\n",
              "     width=\"24px\">\n",
              "    <g>\n",
              "        <path d=\"M19 3H5c-1.1 0-2 .9-2 2v14c0 1.1.9 2 2 2h14c1.1 0 2-.9 2-2V5c0-1.1-.9-2-2-2zM9 17H7v-7h2v7zm4 0h-2V7h2v10zm4 0h-2v-4h2v4z\"/>\n",
              "    </g>\n",
              "</svg>\n",
              "  </button>\n",
              "\n",
              "<style>\n",
              "  .colab-df-quickchart {\n",
              "      --bg-color: #E8F0FE;\n",
              "      --fill-color: #1967D2;\n",
              "      --hover-bg-color: #E2EBFA;\n",
              "      --hover-fill-color: #174EA6;\n",
              "      --disabled-fill-color: #AAA;\n",
              "      --disabled-bg-color: #DDD;\n",
              "  }\n",
              "\n",
              "  [theme=dark] .colab-df-quickchart {\n",
              "      --bg-color: #3B4455;\n",
              "      --fill-color: #D2E3FC;\n",
              "      --hover-bg-color: #434B5C;\n",
              "      --hover-fill-color: #FFFFFF;\n",
              "      --disabled-bg-color: #3B4455;\n",
              "      --disabled-fill-color: #666;\n",
              "  }\n",
              "\n",
              "  .colab-df-quickchart {\n",
              "    background-color: var(--bg-color);\n",
              "    border: none;\n",
              "    border-radius: 50%;\n",
              "    cursor: pointer;\n",
              "    display: none;\n",
              "    fill: var(--fill-color);\n",
              "    height: 32px;\n",
              "    padding: 0;\n",
              "    width: 32px;\n",
              "  }\n",
              "\n",
              "  .colab-df-quickchart:hover {\n",
              "    background-color: var(--hover-bg-color);\n",
              "    box-shadow: 0 1px 2px rgba(60, 64, 67, 0.3), 0 1px 3px 1px rgba(60, 64, 67, 0.15);\n",
              "    fill: var(--button-hover-fill-color);\n",
              "  }\n",
              "\n",
              "  .colab-df-quickchart-complete:disabled,\n",
              "  .colab-df-quickchart-complete:disabled:hover {\n",
              "    background-color: var(--disabled-bg-color);\n",
              "    fill: var(--disabled-fill-color);\n",
              "    box-shadow: none;\n",
              "  }\n",
              "\n",
              "  .colab-df-spinner {\n",
              "    border: 2px solid var(--fill-color);\n",
              "    border-color: transparent;\n",
              "    border-bottom-color: var(--fill-color);\n",
              "    animation:\n",
              "      spin 1s steps(1) infinite;\n",
              "  }\n",
              "\n",
              "  @keyframes spin {\n",
              "    0% {\n",
              "      border-color: transparent;\n",
              "      border-bottom-color: var(--fill-color);\n",
              "      border-left-color: var(--fill-color);\n",
              "    }\n",
              "    20% {\n",
              "      border-color: transparent;\n",
              "      border-left-color: var(--fill-color);\n",
              "      border-top-color: var(--fill-color);\n",
              "    }\n",
              "    30% {\n",
              "      border-color: transparent;\n",
              "      border-left-color: var(--fill-color);\n",
              "      border-top-color: var(--fill-color);\n",
              "      border-right-color: var(--fill-color);\n",
              "    }\n",
              "    40% {\n",
              "      border-color: transparent;\n",
              "      border-right-color: var(--fill-color);\n",
              "      border-top-color: var(--fill-color);\n",
              "    }\n",
              "    60% {\n",
              "      border-color: transparent;\n",
              "      border-right-color: var(--fill-color);\n",
              "    }\n",
              "    80% {\n",
              "      border-color: transparent;\n",
              "      border-right-color: var(--fill-color);\n",
              "      border-bottom-color: var(--fill-color);\n",
              "    }\n",
              "    90% {\n",
              "      border-color: transparent;\n",
              "      border-bottom-color: var(--fill-color);\n",
              "    }\n",
              "  }\n",
              "</style>\n",
              "\n",
              "  <script>\n",
              "    async function quickchart(key) {\n",
              "      const quickchartButtonEl =\n",
              "        document.querySelector('#' + key + ' button');\n",
              "      quickchartButtonEl.disabled = true;  // To prevent multiple clicks.\n",
              "      quickchartButtonEl.classList.add('colab-df-spinner');\n",
              "      try {\n",
              "        const charts = await google.colab.kernel.invokeFunction(\n",
              "            'suggestCharts', [key], {});\n",
              "      } catch (error) {\n",
              "        console.error('Error during call to suggestCharts:', error);\n",
              "      }\n",
              "      quickchartButtonEl.classList.remove('colab-df-spinner');\n",
              "      quickchartButtonEl.classList.add('colab-df-quickchart-complete');\n",
              "    }\n",
              "    (() => {\n",
              "      let quickchartButtonEl =\n",
              "        document.querySelector('#df-3c1bf8c2-9ac6-41aa-9170-ef3a59c2fbd1 button');\n",
              "      quickchartButtonEl.style.display =\n",
              "        google.colab.kernel.accessAllowed ? 'block' : 'none';\n",
              "    })();\n",
              "  </script>\n",
              "</div>\n",
              "\n",
              "  <div id=\"id_caf97b1b-6516-4a08-89aa-4401324e7ec9\">\n",
              "    <style>\n",
              "      .colab-df-generate {\n",
              "        background-color: #E8F0FE;\n",
              "        border: none;\n",
              "        border-radius: 50%;\n",
              "        cursor: pointer;\n",
              "        display: none;\n",
              "        fill: #1967D2;\n",
              "        height: 32px;\n",
              "        padding: 0 0 0 0;\n",
              "        width: 32px;\n",
              "      }\n",
              "\n",
              "      .colab-df-generate:hover {\n",
              "        background-color: #E2EBFA;\n",
              "        box-shadow: 0px 1px 2px rgba(60, 64, 67, 0.3), 0px 1px 3px 1px rgba(60, 64, 67, 0.15);\n",
              "        fill: #174EA6;\n",
              "      }\n",
              "\n",
              "      [theme=dark] .colab-df-generate {\n",
              "        background-color: #3B4455;\n",
              "        fill: #D2E3FC;\n",
              "      }\n",
              "\n",
              "      [theme=dark] .colab-df-generate:hover {\n",
              "        background-color: #434B5C;\n",
              "        box-shadow: 0px 1px 3px 1px rgba(0, 0, 0, 0.15);\n",
              "        filter: drop-shadow(0px 1px 2px rgba(0, 0, 0, 0.3));\n",
              "        fill: #FFFFFF;\n",
              "      }\n",
              "    </style>\n",
              "    <button class=\"colab-df-generate\" onclick=\"generateWithVariable('df')\"\n",
              "            title=\"Generate code using this dataframe.\"\n",
              "            style=\"display:none;\">\n",
              "\n",
              "  <svg xmlns=\"http://www.w3.org/2000/svg\" height=\"24px\"viewBox=\"0 0 24 24\"\n",
              "       width=\"24px\">\n",
              "    <path d=\"M7,19H8.4L18.45,9,17,7.55,7,17.6ZM5,21V16.75L18.45,3.32a2,2,0,0,1,2.83,0l1.4,1.43a1.91,1.91,0,0,1,.58,1.4,1.91,1.91,0,0,1-.58,1.4L9.25,21ZM18.45,9,17,7.55Zm-12,3A5.31,5.31,0,0,0,4.9,8.1,5.31,5.31,0,0,0,1,6.5,5.31,5.31,0,0,0,4.9,4.9,5.31,5.31,0,0,0,6.5,1,5.31,5.31,0,0,0,8.1,4.9,5.31,5.31,0,0,0,12,6.5,5.46,5.46,0,0,0,6.5,12Z\"/>\n",
              "  </svg>\n",
              "    </button>\n",
              "    <script>\n",
              "      (() => {\n",
              "      const buttonEl =\n",
              "        document.querySelector('#id_caf97b1b-6516-4a08-89aa-4401324e7ec9 button.colab-df-generate');\n",
              "      buttonEl.style.display =\n",
              "        google.colab.kernel.accessAllowed ? 'block' : 'none';\n",
              "\n",
              "      buttonEl.onclick = () => {\n",
              "        google.colab.notebook.generateWithVariable('df');\n",
              "      }\n",
              "      })();\n",
              "    </script>\n",
              "  </div>\n",
              "\n",
              "    </div>\n",
              "  </div>\n"
            ],
            "application/vnd.google.colaboratory.intrinsic+json": {
              "type": "dataframe",
              "variable_name": "df",
              "summary": "{\n  \"name\": \"df\",\n  \"rows\": 32581,\n  \"fields\": [\n    {\n      \"column\": \"person_age\",\n      \"properties\": {\n        \"dtype\": \"number\",\n        \"std\": 6,\n        \"min\": 20,\n        \"max\": 144,\n        \"num_unique_values\": 58,\n        \"samples\": [\n          22,\n          26,\n          65\n        ],\n        \"semantic_type\": \"\",\n        \"description\": \"\"\n      }\n    },\n    {\n      \"column\": \"person_income\",\n      \"properties\": {\n        \"dtype\": \"number\",\n        \"std\": 61983,\n        \"min\": 4000,\n        \"max\": 6000000,\n        \"num_unique_values\": 4295,\n        \"samples\": [\n          20800,\n          54417,\n          144000\n        ],\n        \"semantic_type\": \"\",\n        \"description\": \"\"\n      }\n    },\n    {\n      \"column\": \"person_home_ownership\",\n      \"properties\": {\n        \"dtype\": \"category\",\n        \"num_unique_values\": 4,\n        \"samples\": [\n          \"OWN\",\n          \"OTHER\",\n          \"RENT\"\n        ],\n        \"semantic_type\": \"\",\n        \"description\": \"\"\n      }\n    },\n    {\n      \"column\": \"person_emp_length\",\n      \"properties\": {\n        \"dtype\": \"number\",\n        \"std\": 4.1426301488878625,\n        \"min\": 0.0,\n        \"max\": 123.0,\n        \"num_unique_values\": 36,\n        \"samples\": [\n          30.0,\n          18.0,\n          26.0\n        ],\n        \"semantic_type\": \"\",\n        \"description\": \"\"\n      }\n    },\n    {\n      \"column\": \"loan_intent\",\n      \"properties\": {\n        \"dtype\": \"category\",\n        \"num_unique_values\": 6,\n        \"samples\": [\n          \"PERSONAL\",\n          \"EDUCATION\",\n          \"DEBTCONSOLIDATION\"\n        ],\n        \"semantic_type\": \"\",\n        \"description\": \"\"\n      }\n    },\n    {\n      \"column\": \"loan_grade\",\n      \"properties\": {\n        \"dtype\": \"category\",\n        \"num_unique_values\": 7,\n        \"samples\": [\n          \"D\",\n          \"B\",\n          \"F\"\n        ],\n        \"semantic_type\": \"\",\n        \"description\": \"\"\n      }\n    },\n    {\n      \"column\": \"loan_amnt\",\n      \"properties\": {\n        \"dtype\": \"number\",\n        \"std\": 6322,\n        \"min\": 500,\n        \"max\": 35000,\n        \"num_unique_values\": 753,\n        \"samples\": [\n          13125,\n          3675,\n          13800\n        ],\n        \"semantic_type\": \"\",\n        \"description\": \"\"\n      }\n    },\n    {\n      \"column\": \"loan_int_rate\",\n      \"properties\": {\n        \"dtype\": \"number\",\n        \"std\": 3.2404594649559466,\n        \"min\": 5.42,\n        \"max\": 23.22,\n        \"num_unique_values\": 348,\n        \"samples\": [\n          10.28,\n          13.35,\n          18.07\n        ],\n        \"semantic_type\": \"\",\n        \"description\": \"\"\n      }\n    },\n    {\n      \"column\": \"loan_status\",\n      \"properties\": {\n        \"dtype\": \"number\",\n        \"std\": 0,\n        \"min\": 0,\n        \"max\": 1,\n        \"num_unique_values\": 2,\n        \"samples\": [\n          0,\n          1\n        ],\n        \"semantic_type\": \"\",\n        \"description\": \"\"\n      }\n    },\n    {\n      \"column\": \"loan_percent_income\",\n      \"properties\": {\n        \"dtype\": \"number\",\n        \"std\": 0.10678175634492382,\n        \"min\": 0.0,\n        \"max\": 0.83,\n        \"num_unique_values\": 77,\n        \"samples\": [\n          0.55,\n          0.34\n        ],\n        \"semantic_type\": \"\",\n        \"description\": \"\"\n      }\n    },\n    {\n      \"column\": \"cb_person_default_on_file\",\n      \"properties\": {\n        \"dtype\": \"category\",\n        \"num_unique_values\": 2,\n        \"samples\": [\n          \"N\",\n          \"Y\"\n        ],\n        \"semantic_type\": \"\",\n        \"description\": \"\"\n      }\n    },\n    {\n      \"column\": \"cb_person_cred_hist_length\",\n      \"properties\": {\n        \"dtype\": \"number\",\n        \"std\": 4,\n        \"min\": 2,\n        \"max\": 30,\n        \"num_unique_values\": 29,\n        \"samples\": [\n          24,\n          25\n        ],\n        \"semantic_type\": \"\",\n        \"description\": \"\"\n      }\n    }\n  ]\n}"
            }
          },
          "metadata": {},
          "execution_count": 2
        }
      ]
    },
    {
      "cell_type": "markdown",
      "source": [
        "**Basic Data Exploration**\n"
      ],
      "metadata": {
        "id": "t45TOuzlsR-1"
      }
    },
    {
      "cell_type": "code",
      "source": [
        "df.head()"
      ],
      "metadata": {
        "colab": {
          "base_uri": "https://localhost:8080/",
          "height": 226
        },
        "id": "kFPoLOmvE44z",
        "outputId": "d076cc6f-c88a-416c-de70-710e6d09a38c"
      },
      "execution_count": null,
      "outputs": [
        {
          "output_type": "execute_result",
          "data": {
            "text/plain": [
              "   person_age  person_income person_home_ownership  person_emp_length  \\\n",
              "0          22          59000                  RENT              123.0   \n",
              "1          21           9600                   OWN                5.0   \n",
              "2          25           9600              MORTGAGE                1.0   \n",
              "3          23          65500                  RENT                4.0   \n",
              "4          24          54400                  RENT                8.0   \n",
              "\n",
              "  loan_intent loan_grade  loan_amnt  loan_int_rate  loan_status  \\\n",
              "0    PERSONAL          D      35000          16.02            1   \n",
              "1   EDUCATION          B       1000          11.14            0   \n",
              "2     MEDICAL          C       5500          12.87            1   \n",
              "3     MEDICAL          C      35000          15.23            1   \n",
              "4     MEDICAL          C      35000          14.27            1   \n",
              "\n",
              "   loan_percent_income cb_person_default_on_file  cb_person_cred_hist_length  \n",
              "0                 0.59                         Y                           3  \n",
              "1                 0.10                         N                           2  \n",
              "2                 0.57                         N                           3  \n",
              "3                 0.53                         N                           2  \n",
              "4                 0.55                         Y                           4  "
            ],
            "text/html": [
              "\n",
              "  <div id=\"df-dd724abb-1b9f-4c98-b2a8-0a1ef6a1279f\" class=\"colab-df-container\">\n",
              "    <div>\n",
              "<style scoped>\n",
              "    .dataframe tbody tr th:only-of-type {\n",
              "        vertical-align: middle;\n",
              "    }\n",
              "\n",
              "    .dataframe tbody tr th {\n",
              "        vertical-align: top;\n",
              "    }\n",
              "\n",
              "    .dataframe thead th {\n",
              "        text-align: right;\n",
              "    }\n",
              "</style>\n",
              "<table border=\"1\" class=\"dataframe\">\n",
              "  <thead>\n",
              "    <tr style=\"text-align: right;\">\n",
              "      <th></th>\n",
              "      <th>person_age</th>\n",
              "      <th>person_income</th>\n",
              "      <th>person_home_ownership</th>\n",
              "      <th>person_emp_length</th>\n",
              "      <th>loan_intent</th>\n",
              "      <th>loan_grade</th>\n",
              "      <th>loan_amnt</th>\n",
              "      <th>loan_int_rate</th>\n",
              "      <th>loan_status</th>\n",
              "      <th>loan_percent_income</th>\n",
              "      <th>cb_person_default_on_file</th>\n",
              "      <th>cb_person_cred_hist_length</th>\n",
              "    </tr>\n",
              "  </thead>\n",
              "  <tbody>\n",
              "    <tr>\n",
              "      <th>0</th>\n",
              "      <td>22</td>\n",
              "      <td>59000</td>\n",
              "      <td>RENT</td>\n",
              "      <td>123.0</td>\n",
              "      <td>PERSONAL</td>\n",
              "      <td>D</td>\n",
              "      <td>35000</td>\n",
              "      <td>16.02</td>\n",
              "      <td>1</td>\n",
              "      <td>0.59</td>\n",
              "      <td>Y</td>\n",
              "      <td>3</td>\n",
              "    </tr>\n",
              "    <tr>\n",
              "      <th>1</th>\n",
              "      <td>21</td>\n",
              "      <td>9600</td>\n",
              "      <td>OWN</td>\n",
              "      <td>5.0</td>\n",
              "      <td>EDUCATION</td>\n",
              "      <td>B</td>\n",
              "      <td>1000</td>\n",
              "      <td>11.14</td>\n",
              "      <td>0</td>\n",
              "      <td>0.10</td>\n",
              "      <td>N</td>\n",
              "      <td>2</td>\n",
              "    </tr>\n",
              "    <tr>\n",
              "      <th>2</th>\n",
              "      <td>25</td>\n",
              "      <td>9600</td>\n",
              "      <td>MORTGAGE</td>\n",
              "      <td>1.0</td>\n",
              "      <td>MEDICAL</td>\n",
              "      <td>C</td>\n",
              "      <td>5500</td>\n",
              "      <td>12.87</td>\n",
              "      <td>1</td>\n",
              "      <td>0.57</td>\n",
              "      <td>N</td>\n",
              "      <td>3</td>\n",
              "    </tr>\n",
              "    <tr>\n",
              "      <th>3</th>\n",
              "      <td>23</td>\n",
              "      <td>65500</td>\n",
              "      <td>RENT</td>\n",
              "      <td>4.0</td>\n",
              "      <td>MEDICAL</td>\n",
              "      <td>C</td>\n",
              "      <td>35000</td>\n",
              "      <td>15.23</td>\n",
              "      <td>1</td>\n",
              "      <td>0.53</td>\n",
              "      <td>N</td>\n",
              "      <td>2</td>\n",
              "    </tr>\n",
              "    <tr>\n",
              "      <th>4</th>\n",
              "      <td>24</td>\n",
              "      <td>54400</td>\n",
              "      <td>RENT</td>\n",
              "      <td>8.0</td>\n",
              "      <td>MEDICAL</td>\n",
              "      <td>C</td>\n",
              "      <td>35000</td>\n",
              "      <td>14.27</td>\n",
              "      <td>1</td>\n",
              "      <td>0.55</td>\n",
              "      <td>Y</td>\n",
              "      <td>4</td>\n",
              "    </tr>\n",
              "  </tbody>\n",
              "</table>\n",
              "</div>\n",
              "    <div class=\"colab-df-buttons\">\n",
              "\n",
              "  <div class=\"colab-df-container\">\n",
              "    <button class=\"colab-df-convert\" onclick=\"convertToInteractive('df-dd724abb-1b9f-4c98-b2a8-0a1ef6a1279f')\"\n",
              "            title=\"Convert this dataframe to an interactive table.\"\n",
              "            style=\"display:none;\">\n",
              "\n",
              "  <svg xmlns=\"http://www.w3.org/2000/svg\" height=\"24px\" viewBox=\"0 -960 960 960\">\n",
              "    <path d=\"M120-120v-720h720v720H120Zm60-500h600v-160H180v160Zm220 220h160v-160H400v160Zm0 220h160v-160H400v160ZM180-400h160v-160H180v160Zm440 0h160v-160H620v160ZM180-180h160v-160H180v160Zm440 0h160v-160H620v160Z\"/>\n",
              "  </svg>\n",
              "    </button>\n",
              "\n",
              "  <style>\n",
              "    .colab-df-container {\n",
              "      display:flex;\n",
              "      gap: 12px;\n",
              "    }\n",
              "\n",
              "    .colab-df-convert {\n",
              "      background-color: #E8F0FE;\n",
              "      border: none;\n",
              "      border-radius: 50%;\n",
              "      cursor: pointer;\n",
              "      display: none;\n",
              "      fill: #1967D2;\n",
              "      height: 32px;\n",
              "      padding: 0 0 0 0;\n",
              "      width: 32px;\n",
              "    }\n",
              "\n",
              "    .colab-df-convert:hover {\n",
              "      background-color: #E2EBFA;\n",
              "      box-shadow: 0px 1px 2px rgba(60, 64, 67, 0.3), 0px 1px 3px 1px rgba(60, 64, 67, 0.15);\n",
              "      fill: #174EA6;\n",
              "    }\n",
              "\n",
              "    .colab-df-buttons div {\n",
              "      margin-bottom: 4px;\n",
              "    }\n",
              "\n",
              "    [theme=dark] .colab-df-convert {\n",
              "      background-color: #3B4455;\n",
              "      fill: #D2E3FC;\n",
              "    }\n",
              "\n",
              "    [theme=dark] .colab-df-convert:hover {\n",
              "      background-color: #434B5C;\n",
              "      box-shadow: 0px 1px 3px 1px rgba(0, 0, 0, 0.15);\n",
              "      filter: drop-shadow(0px 1px 2px rgba(0, 0, 0, 0.3));\n",
              "      fill: #FFFFFF;\n",
              "    }\n",
              "  </style>\n",
              "\n",
              "    <script>\n",
              "      const buttonEl =\n",
              "        document.querySelector('#df-dd724abb-1b9f-4c98-b2a8-0a1ef6a1279f button.colab-df-convert');\n",
              "      buttonEl.style.display =\n",
              "        google.colab.kernel.accessAllowed ? 'block' : 'none';\n",
              "\n",
              "      async function convertToInteractive(key) {\n",
              "        const element = document.querySelector('#df-dd724abb-1b9f-4c98-b2a8-0a1ef6a1279f');\n",
              "        const dataTable =\n",
              "          await google.colab.kernel.invokeFunction('convertToInteractive',\n",
              "                                                    [key], {});\n",
              "        if (!dataTable) return;\n",
              "\n",
              "        const docLinkHtml = 'Like what you see? Visit the ' +\n",
              "          '<a target=\"_blank\" href=https://colab.research.google.com/notebooks/data_table.ipynb>data table notebook</a>'\n",
              "          + ' to learn more about interactive tables.';\n",
              "        element.innerHTML = '';\n",
              "        dataTable['output_type'] = 'display_data';\n",
              "        await google.colab.output.renderOutput(dataTable, element);\n",
              "        const docLink = document.createElement('div');\n",
              "        docLink.innerHTML = docLinkHtml;\n",
              "        element.appendChild(docLink);\n",
              "      }\n",
              "    </script>\n",
              "  </div>\n",
              "\n",
              "\n",
              "<div id=\"df-06ae80f8-fa75-4657-9d6b-5cd05e985b71\">\n",
              "  <button class=\"colab-df-quickchart\" onclick=\"quickchart('df-06ae80f8-fa75-4657-9d6b-5cd05e985b71')\"\n",
              "            title=\"Suggest charts\"\n",
              "            style=\"display:none;\">\n",
              "\n",
              "<svg xmlns=\"http://www.w3.org/2000/svg\" height=\"24px\"viewBox=\"0 0 24 24\"\n",
              "     width=\"24px\">\n",
              "    <g>\n",
              "        <path d=\"M19 3H5c-1.1 0-2 .9-2 2v14c0 1.1.9 2 2 2h14c1.1 0 2-.9 2-2V5c0-1.1-.9-2-2-2zM9 17H7v-7h2v7zm4 0h-2V7h2v10zm4 0h-2v-4h2v4z\"/>\n",
              "    </g>\n",
              "</svg>\n",
              "  </button>\n",
              "\n",
              "<style>\n",
              "  .colab-df-quickchart {\n",
              "      --bg-color: #E8F0FE;\n",
              "      --fill-color: #1967D2;\n",
              "      --hover-bg-color: #E2EBFA;\n",
              "      --hover-fill-color: #174EA6;\n",
              "      --disabled-fill-color: #AAA;\n",
              "      --disabled-bg-color: #DDD;\n",
              "  }\n",
              "\n",
              "  [theme=dark] .colab-df-quickchart {\n",
              "      --bg-color: #3B4455;\n",
              "      --fill-color: #D2E3FC;\n",
              "      --hover-bg-color: #434B5C;\n",
              "      --hover-fill-color: #FFFFFF;\n",
              "      --disabled-bg-color: #3B4455;\n",
              "      --disabled-fill-color: #666;\n",
              "  }\n",
              "\n",
              "  .colab-df-quickchart {\n",
              "    background-color: var(--bg-color);\n",
              "    border: none;\n",
              "    border-radius: 50%;\n",
              "    cursor: pointer;\n",
              "    display: none;\n",
              "    fill: var(--fill-color);\n",
              "    height: 32px;\n",
              "    padding: 0;\n",
              "    width: 32px;\n",
              "  }\n",
              "\n",
              "  .colab-df-quickchart:hover {\n",
              "    background-color: var(--hover-bg-color);\n",
              "    box-shadow: 0 1px 2px rgba(60, 64, 67, 0.3), 0 1px 3px 1px rgba(60, 64, 67, 0.15);\n",
              "    fill: var(--button-hover-fill-color);\n",
              "  }\n",
              "\n",
              "  .colab-df-quickchart-complete:disabled,\n",
              "  .colab-df-quickchart-complete:disabled:hover {\n",
              "    background-color: var(--disabled-bg-color);\n",
              "    fill: var(--disabled-fill-color);\n",
              "    box-shadow: none;\n",
              "  }\n",
              "\n",
              "  .colab-df-spinner {\n",
              "    border: 2px solid var(--fill-color);\n",
              "    border-color: transparent;\n",
              "    border-bottom-color: var(--fill-color);\n",
              "    animation:\n",
              "      spin 1s steps(1) infinite;\n",
              "  }\n",
              "\n",
              "  @keyframes spin {\n",
              "    0% {\n",
              "      border-color: transparent;\n",
              "      border-bottom-color: var(--fill-color);\n",
              "      border-left-color: var(--fill-color);\n",
              "    }\n",
              "    20% {\n",
              "      border-color: transparent;\n",
              "      border-left-color: var(--fill-color);\n",
              "      border-top-color: var(--fill-color);\n",
              "    }\n",
              "    30% {\n",
              "      border-color: transparent;\n",
              "      border-left-color: var(--fill-color);\n",
              "      border-top-color: var(--fill-color);\n",
              "      border-right-color: var(--fill-color);\n",
              "    }\n",
              "    40% {\n",
              "      border-color: transparent;\n",
              "      border-right-color: var(--fill-color);\n",
              "      border-top-color: var(--fill-color);\n",
              "    }\n",
              "    60% {\n",
              "      border-color: transparent;\n",
              "      border-right-color: var(--fill-color);\n",
              "    }\n",
              "    80% {\n",
              "      border-color: transparent;\n",
              "      border-right-color: var(--fill-color);\n",
              "      border-bottom-color: var(--fill-color);\n",
              "    }\n",
              "    90% {\n",
              "      border-color: transparent;\n",
              "      border-bottom-color: var(--fill-color);\n",
              "    }\n",
              "  }\n",
              "</style>\n",
              "\n",
              "  <script>\n",
              "    async function quickchart(key) {\n",
              "      const quickchartButtonEl =\n",
              "        document.querySelector('#' + key + ' button');\n",
              "      quickchartButtonEl.disabled = true;  // To prevent multiple clicks.\n",
              "      quickchartButtonEl.classList.add('colab-df-spinner');\n",
              "      try {\n",
              "        const charts = await google.colab.kernel.invokeFunction(\n",
              "            'suggestCharts', [key], {});\n",
              "      } catch (error) {\n",
              "        console.error('Error during call to suggestCharts:', error);\n",
              "      }\n",
              "      quickchartButtonEl.classList.remove('colab-df-spinner');\n",
              "      quickchartButtonEl.classList.add('colab-df-quickchart-complete');\n",
              "    }\n",
              "    (() => {\n",
              "      let quickchartButtonEl =\n",
              "        document.querySelector('#df-06ae80f8-fa75-4657-9d6b-5cd05e985b71 button');\n",
              "      quickchartButtonEl.style.display =\n",
              "        google.colab.kernel.accessAllowed ? 'block' : 'none';\n",
              "    })();\n",
              "  </script>\n",
              "</div>\n",
              "\n",
              "    </div>\n",
              "  </div>\n"
            ],
            "application/vnd.google.colaboratory.intrinsic+json": {
              "type": "dataframe",
              "variable_name": "df",
              "summary": "{\n  \"name\": \"df\",\n  \"rows\": 32581,\n  \"fields\": [\n    {\n      \"column\": \"person_age\",\n      \"properties\": {\n        \"dtype\": \"number\",\n        \"std\": 6,\n        \"min\": 20,\n        \"max\": 144,\n        \"num_unique_values\": 58,\n        \"samples\": [\n          22,\n          26,\n          65\n        ],\n        \"semantic_type\": \"\",\n        \"description\": \"\"\n      }\n    },\n    {\n      \"column\": \"person_income\",\n      \"properties\": {\n        \"dtype\": \"number\",\n        \"std\": 61983,\n        \"min\": 4000,\n        \"max\": 6000000,\n        \"num_unique_values\": 4295,\n        \"samples\": [\n          20800,\n          54417,\n          144000\n        ],\n        \"semantic_type\": \"\",\n        \"description\": \"\"\n      }\n    },\n    {\n      \"column\": \"person_home_ownership\",\n      \"properties\": {\n        \"dtype\": \"category\",\n        \"num_unique_values\": 4,\n        \"samples\": [\n          \"OWN\",\n          \"OTHER\",\n          \"RENT\"\n        ],\n        \"semantic_type\": \"\",\n        \"description\": \"\"\n      }\n    },\n    {\n      \"column\": \"person_emp_length\",\n      \"properties\": {\n        \"dtype\": \"number\",\n        \"std\": 4.1426301488878625,\n        \"min\": 0.0,\n        \"max\": 123.0,\n        \"num_unique_values\": 36,\n        \"samples\": [\n          30.0,\n          18.0,\n          26.0\n        ],\n        \"semantic_type\": \"\",\n        \"description\": \"\"\n      }\n    },\n    {\n      \"column\": \"loan_intent\",\n      \"properties\": {\n        \"dtype\": \"category\",\n        \"num_unique_values\": 6,\n        \"samples\": [\n          \"PERSONAL\",\n          \"EDUCATION\",\n          \"DEBTCONSOLIDATION\"\n        ],\n        \"semantic_type\": \"\",\n        \"description\": \"\"\n      }\n    },\n    {\n      \"column\": \"loan_grade\",\n      \"properties\": {\n        \"dtype\": \"category\",\n        \"num_unique_values\": 7,\n        \"samples\": [\n          \"D\",\n          \"B\",\n          \"F\"\n        ],\n        \"semantic_type\": \"\",\n        \"description\": \"\"\n      }\n    },\n    {\n      \"column\": \"loan_amnt\",\n      \"properties\": {\n        \"dtype\": \"number\",\n        \"std\": 6322,\n        \"min\": 500,\n        \"max\": 35000,\n        \"num_unique_values\": 753,\n        \"samples\": [\n          13125,\n          3675,\n          13800\n        ],\n        \"semantic_type\": \"\",\n        \"description\": \"\"\n      }\n    },\n    {\n      \"column\": \"loan_int_rate\",\n      \"properties\": {\n        \"dtype\": \"number\",\n        \"std\": 3.2404594649559466,\n        \"min\": 5.42,\n        \"max\": 23.22,\n        \"num_unique_values\": 348,\n        \"samples\": [\n          10.28,\n          13.35,\n          18.07\n        ],\n        \"semantic_type\": \"\",\n        \"description\": \"\"\n      }\n    },\n    {\n      \"column\": \"loan_status\",\n      \"properties\": {\n        \"dtype\": \"number\",\n        \"std\": 0,\n        \"min\": 0,\n        \"max\": 1,\n        \"num_unique_values\": 2,\n        \"samples\": [\n          0,\n          1\n        ],\n        \"semantic_type\": \"\",\n        \"description\": \"\"\n      }\n    },\n    {\n      \"column\": \"loan_percent_income\",\n      \"properties\": {\n        \"dtype\": \"number\",\n        \"std\": 0.10678175634492382,\n        \"min\": 0.0,\n        \"max\": 0.83,\n        \"num_unique_values\": 77,\n        \"samples\": [\n          0.55,\n          0.34\n        ],\n        \"semantic_type\": \"\",\n        \"description\": \"\"\n      }\n    },\n    {\n      \"column\": \"cb_person_default_on_file\",\n      \"properties\": {\n        \"dtype\": \"category\",\n        \"num_unique_values\": 2,\n        \"samples\": [\n          \"N\",\n          \"Y\"\n        ],\n        \"semantic_type\": \"\",\n        \"description\": \"\"\n      }\n    },\n    {\n      \"column\": \"cb_person_cred_hist_length\",\n      \"properties\": {\n        \"dtype\": \"number\",\n        \"std\": 4,\n        \"min\": 2,\n        \"max\": 30,\n        \"num_unique_values\": 29,\n        \"samples\": [\n          24,\n          25\n        ],\n        \"semantic_type\": \"\",\n        \"description\": \"\"\n      }\n    }\n  ]\n}"
            }
          },
          "metadata": {},
          "execution_count": 3
        }
      ]
    },
    {
      "cell_type": "code",
      "source": [
        "df.tail()"
      ],
      "metadata": {
        "colab": {
          "base_uri": "https://localhost:8080/",
          "height": 226
        },
        "id": "RJR-Jj1pFloZ",
        "outputId": "20f4af6a-e602-41e4-abb7-f1140a4fac52"
      },
      "execution_count": null,
      "outputs": [
        {
          "output_type": "execute_result",
          "data": {
            "text/plain": [
              "       person_age  person_income person_home_ownership  person_emp_length  \\\n",
              "32576          57          53000              MORTGAGE                1.0   \n",
              "32577          54         120000              MORTGAGE                4.0   \n",
              "32578          65          76000                  RENT                3.0   \n",
              "32579          56         150000              MORTGAGE                5.0   \n",
              "32580          66          42000                  RENT                2.0   \n",
              "\n",
              "           loan_intent loan_grade  loan_amnt  loan_int_rate  loan_status  \\\n",
              "32576         PERSONAL          C       5800          13.16            0   \n",
              "32577         PERSONAL          A      17625           7.49            0   \n",
              "32578  HOMEIMPROVEMENT          B      35000          10.99            1   \n",
              "32579         PERSONAL          B      15000          11.48            0   \n",
              "32580          MEDICAL          B       6475           9.99            0   \n",
              "\n",
              "       loan_percent_income cb_person_default_on_file  \\\n",
              "32576                 0.11                         N   \n",
              "32577                 0.15                         N   \n",
              "32578                 0.46                         N   \n",
              "32579                 0.10                         N   \n",
              "32580                 0.15                         N   \n",
              "\n",
              "       cb_person_cred_hist_length  \n",
              "32576                          30  \n",
              "32577                          19  \n",
              "32578                          28  \n",
              "32579                          26  \n",
              "32580                          30  "
            ],
            "text/html": [
              "\n",
              "  <div id=\"df-9e10a70a-0f2c-482b-a181-62838e73d07b\" class=\"colab-df-container\">\n",
              "    <div>\n",
              "<style scoped>\n",
              "    .dataframe tbody tr th:only-of-type {\n",
              "        vertical-align: middle;\n",
              "    }\n",
              "\n",
              "    .dataframe tbody tr th {\n",
              "        vertical-align: top;\n",
              "    }\n",
              "\n",
              "    .dataframe thead th {\n",
              "        text-align: right;\n",
              "    }\n",
              "</style>\n",
              "<table border=\"1\" class=\"dataframe\">\n",
              "  <thead>\n",
              "    <tr style=\"text-align: right;\">\n",
              "      <th></th>\n",
              "      <th>person_age</th>\n",
              "      <th>person_income</th>\n",
              "      <th>person_home_ownership</th>\n",
              "      <th>person_emp_length</th>\n",
              "      <th>loan_intent</th>\n",
              "      <th>loan_grade</th>\n",
              "      <th>loan_amnt</th>\n",
              "      <th>loan_int_rate</th>\n",
              "      <th>loan_status</th>\n",
              "      <th>loan_percent_income</th>\n",
              "      <th>cb_person_default_on_file</th>\n",
              "      <th>cb_person_cred_hist_length</th>\n",
              "    </tr>\n",
              "  </thead>\n",
              "  <tbody>\n",
              "    <tr>\n",
              "      <th>32576</th>\n",
              "      <td>57</td>\n",
              "      <td>53000</td>\n",
              "      <td>MORTGAGE</td>\n",
              "      <td>1.0</td>\n",
              "      <td>PERSONAL</td>\n",
              "      <td>C</td>\n",
              "      <td>5800</td>\n",
              "      <td>13.16</td>\n",
              "      <td>0</td>\n",
              "      <td>0.11</td>\n",
              "      <td>N</td>\n",
              "      <td>30</td>\n",
              "    </tr>\n",
              "    <tr>\n",
              "      <th>32577</th>\n",
              "      <td>54</td>\n",
              "      <td>120000</td>\n",
              "      <td>MORTGAGE</td>\n",
              "      <td>4.0</td>\n",
              "      <td>PERSONAL</td>\n",
              "      <td>A</td>\n",
              "      <td>17625</td>\n",
              "      <td>7.49</td>\n",
              "      <td>0</td>\n",
              "      <td>0.15</td>\n",
              "      <td>N</td>\n",
              "      <td>19</td>\n",
              "    </tr>\n",
              "    <tr>\n",
              "      <th>32578</th>\n",
              "      <td>65</td>\n",
              "      <td>76000</td>\n",
              "      <td>RENT</td>\n",
              "      <td>3.0</td>\n",
              "      <td>HOMEIMPROVEMENT</td>\n",
              "      <td>B</td>\n",
              "      <td>35000</td>\n",
              "      <td>10.99</td>\n",
              "      <td>1</td>\n",
              "      <td>0.46</td>\n",
              "      <td>N</td>\n",
              "      <td>28</td>\n",
              "    </tr>\n",
              "    <tr>\n",
              "      <th>32579</th>\n",
              "      <td>56</td>\n",
              "      <td>150000</td>\n",
              "      <td>MORTGAGE</td>\n",
              "      <td>5.0</td>\n",
              "      <td>PERSONAL</td>\n",
              "      <td>B</td>\n",
              "      <td>15000</td>\n",
              "      <td>11.48</td>\n",
              "      <td>0</td>\n",
              "      <td>0.10</td>\n",
              "      <td>N</td>\n",
              "      <td>26</td>\n",
              "    </tr>\n",
              "    <tr>\n",
              "      <th>32580</th>\n",
              "      <td>66</td>\n",
              "      <td>42000</td>\n",
              "      <td>RENT</td>\n",
              "      <td>2.0</td>\n",
              "      <td>MEDICAL</td>\n",
              "      <td>B</td>\n",
              "      <td>6475</td>\n",
              "      <td>9.99</td>\n",
              "      <td>0</td>\n",
              "      <td>0.15</td>\n",
              "      <td>N</td>\n",
              "      <td>30</td>\n",
              "    </tr>\n",
              "  </tbody>\n",
              "</table>\n",
              "</div>\n",
              "    <div class=\"colab-df-buttons\">\n",
              "\n",
              "  <div class=\"colab-df-container\">\n",
              "    <button class=\"colab-df-convert\" onclick=\"convertToInteractive('df-9e10a70a-0f2c-482b-a181-62838e73d07b')\"\n",
              "            title=\"Convert this dataframe to an interactive table.\"\n",
              "            style=\"display:none;\">\n",
              "\n",
              "  <svg xmlns=\"http://www.w3.org/2000/svg\" height=\"24px\" viewBox=\"0 -960 960 960\">\n",
              "    <path d=\"M120-120v-720h720v720H120Zm60-500h600v-160H180v160Zm220 220h160v-160H400v160Zm0 220h160v-160H400v160ZM180-400h160v-160H180v160Zm440 0h160v-160H620v160ZM180-180h160v-160H180v160Zm440 0h160v-160H620v160Z\"/>\n",
              "  </svg>\n",
              "    </button>\n",
              "\n",
              "  <style>\n",
              "    .colab-df-container {\n",
              "      display:flex;\n",
              "      gap: 12px;\n",
              "    }\n",
              "\n",
              "    .colab-df-convert {\n",
              "      background-color: #E8F0FE;\n",
              "      border: none;\n",
              "      border-radius: 50%;\n",
              "      cursor: pointer;\n",
              "      display: none;\n",
              "      fill: #1967D2;\n",
              "      height: 32px;\n",
              "      padding: 0 0 0 0;\n",
              "      width: 32px;\n",
              "    }\n",
              "\n",
              "    .colab-df-convert:hover {\n",
              "      background-color: #E2EBFA;\n",
              "      box-shadow: 0px 1px 2px rgba(60, 64, 67, 0.3), 0px 1px 3px 1px rgba(60, 64, 67, 0.15);\n",
              "      fill: #174EA6;\n",
              "    }\n",
              "\n",
              "    .colab-df-buttons div {\n",
              "      margin-bottom: 4px;\n",
              "    }\n",
              "\n",
              "    [theme=dark] .colab-df-convert {\n",
              "      background-color: #3B4455;\n",
              "      fill: #D2E3FC;\n",
              "    }\n",
              "\n",
              "    [theme=dark] .colab-df-convert:hover {\n",
              "      background-color: #434B5C;\n",
              "      box-shadow: 0px 1px 3px 1px rgba(0, 0, 0, 0.15);\n",
              "      filter: drop-shadow(0px 1px 2px rgba(0, 0, 0, 0.3));\n",
              "      fill: #FFFFFF;\n",
              "    }\n",
              "  </style>\n",
              "\n",
              "    <script>\n",
              "      const buttonEl =\n",
              "        document.querySelector('#df-9e10a70a-0f2c-482b-a181-62838e73d07b button.colab-df-convert');\n",
              "      buttonEl.style.display =\n",
              "        google.colab.kernel.accessAllowed ? 'block' : 'none';\n",
              "\n",
              "      async function convertToInteractive(key) {\n",
              "        const element = document.querySelector('#df-9e10a70a-0f2c-482b-a181-62838e73d07b');\n",
              "        const dataTable =\n",
              "          await google.colab.kernel.invokeFunction('convertToInteractive',\n",
              "                                                    [key], {});\n",
              "        if (!dataTable) return;\n",
              "\n",
              "        const docLinkHtml = 'Like what you see? Visit the ' +\n",
              "          '<a target=\"_blank\" href=https://colab.research.google.com/notebooks/data_table.ipynb>data table notebook</a>'\n",
              "          + ' to learn more about interactive tables.';\n",
              "        element.innerHTML = '';\n",
              "        dataTable['output_type'] = 'display_data';\n",
              "        await google.colab.output.renderOutput(dataTable, element);\n",
              "        const docLink = document.createElement('div');\n",
              "        docLink.innerHTML = docLinkHtml;\n",
              "        element.appendChild(docLink);\n",
              "      }\n",
              "    </script>\n",
              "  </div>\n",
              "\n",
              "\n",
              "<div id=\"df-7e941594-bc65-4aae-b4ce-055fea857211\">\n",
              "  <button class=\"colab-df-quickchart\" onclick=\"quickchart('df-7e941594-bc65-4aae-b4ce-055fea857211')\"\n",
              "            title=\"Suggest charts\"\n",
              "            style=\"display:none;\">\n",
              "\n",
              "<svg xmlns=\"http://www.w3.org/2000/svg\" height=\"24px\"viewBox=\"0 0 24 24\"\n",
              "     width=\"24px\">\n",
              "    <g>\n",
              "        <path d=\"M19 3H5c-1.1 0-2 .9-2 2v14c0 1.1.9 2 2 2h14c1.1 0 2-.9 2-2V5c0-1.1-.9-2-2-2zM9 17H7v-7h2v7zm4 0h-2V7h2v10zm4 0h-2v-4h2v4z\"/>\n",
              "    </g>\n",
              "</svg>\n",
              "  </button>\n",
              "\n",
              "<style>\n",
              "  .colab-df-quickchart {\n",
              "      --bg-color: #E8F0FE;\n",
              "      --fill-color: #1967D2;\n",
              "      --hover-bg-color: #E2EBFA;\n",
              "      --hover-fill-color: #174EA6;\n",
              "      --disabled-fill-color: #AAA;\n",
              "      --disabled-bg-color: #DDD;\n",
              "  }\n",
              "\n",
              "  [theme=dark] .colab-df-quickchart {\n",
              "      --bg-color: #3B4455;\n",
              "      --fill-color: #D2E3FC;\n",
              "      --hover-bg-color: #434B5C;\n",
              "      --hover-fill-color: #FFFFFF;\n",
              "      --disabled-bg-color: #3B4455;\n",
              "      --disabled-fill-color: #666;\n",
              "  }\n",
              "\n",
              "  .colab-df-quickchart {\n",
              "    background-color: var(--bg-color);\n",
              "    border: none;\n",
              "    border-radius: 50%;\n",
              "    cursor: pointer;\n",
              "    display: none;\n",
              "    fill: var(--fill-color);\n",
              "    height: 32px;\n",
              "    padding: 0;\n",
              "    width: 32px;\n",
              "  }\n",
              "\n",
              "  .colab-df-quickchart:hover {\n",
              "    background-color: var(--hover-bg-color);\n",
              "    box-shadow: 0 1px 2px rgba(60, 64, 67, 0.3), 0 1px 3px 1px rgba(60, 64, 67, 0.15);\n",
              "    fill: var(--button-hover-fill-color);\n",
              "  }\n",
              "\n",
              "  .colab-df-quickchart-complete:disabled,\n",
              "  .colab-df-quickchart-complete:disabled:hover {\n",
              "    background-color: var(--disabled-bg-color);\n",
              "    fill: var(--disabled-fill-color);\n",
              "    box-shadow: none;\n",
              "  }\n",
              "\n",
              "  .colab-df-spinner {\n",
              "    border: 2px solid var(--fill-color);\n",
              "    border-color: transparent;\n",
              "    border-bottom-color: var(--fill-color);\n",
              "    animation:\n",
              "      spin 1s steps(1) infinite;\n",
              "  }\n",
              "\n",
              "  @keyframes spin {\n",
              "    0% {\n",
              "      border-color: transparent;\n",
              "      border-bottom-color: var(--fill-color);\n",
              "      border-left-color: var(--fill-color);\n",
              "    }\n",
              "    20% {\n",
              "      border-color: transparent;\n",
              "      border-left-color: var(--fill-color);\n",
              "      border-top-color: var(--fill-color);\n",
              "    }\n",
              "    30% {\n",
              "      border-color: transparent;\n",
              "      border-left-color: var(--fill-color);\n",
              "      border-top-color: var(--fill-color);\n",
              "      border-right-color: var(--fill-color);\n",
              "    }\n",
              "    40% {\n",
              "      border-color: transparent;\n",
              "      border-right-color: var(--fill-color);\n",
              "      border-top-color: var(--fill-color);\n",
              "    }\n",
              "    60% {\n",
              "      border-color: transparent;\n",
              "      border-right-color: var(--fill-color);\n",
              "    }\n",
              "    80% {\n",
              "      border-color: transparent;\n",
              "      border-right-color: var(--fill-color);\n",
              "      border-bottom-color: var(--fill-color);\n",
              "    }\n",
              "    90% {\n",
              "      border-color: transparent;\n",
              "      border-bottom-color: var(--fill-color);\n",
              "    }\n",
              "  }\n",
              "</style>\n",
              "\n",
              "  <script>\n",
              "    async function quickchart(key) {\n",
              "      const quickchartButtonEl =\n",
              "        document.querySelector('#' + key + ' button');\n",
              "      quickchartButtonEl.disabled = true;  // To prevent multiple clicks.\n",
              "      quickchartButtonEl.classList.add('colab-df-spinner');\n",
              "      try {\n",
              "        const charts = await google.colab.kernel.invokeFunction(\n",
              "            'suggestCharts', [key], {});\n",
              "      } catch (error) {\n",
              "        console.error('Error during call to suggestCharts:', error);\n",
              "      }\n",
              "      quickchartButtonEl.classList.remove('colab-df-spinner');\n",
              "      quickchartButtonEl.classList.add('colab-df-quickchart-complete');\n",
              "    }\n",
              "    (() => {\n",
              "      let quickchartButtonEl =\n",
              "        document.querySelector('#df-7e941594-bc65-4aae-b4ce-055fea857211 button');\n",
              "      quickchartButtonEl.style.display =\n",
              "        google.colab.kernel.accessAllowed ? 'block' : 'none';\n",
              "    })();\n",
              "  </script>\n",
              "</div>\n",
              "\n",
              "    </div>\n",
              "  </div>\n"
            ],
            "application/vnd.google.colaboratory.intrinsic+json": {
              "type": "dataframe",
              "summary": "{\n  \"name\": \"df\",\n  \"rows\": 5,\n  \"fields\": [\n    {\n      \"column\": \"person_age\",\n      \"properties\": {\n        \"dtype\": \"number\",\n        \"std\": 5,\n        \"min\": 54,\n        \"max\": 66,\n        \"num_unique_values\": 5,\n        \"samples\": [\n          54,\n          66,\n          65\n        ],\n        \"semantic_type\": \"\",\n        \"description\": \"\"\n      }\n    },\n    {\n      \"column\": \"person_income\",\n      \"properties\": {\n        \"dtype\": \"number\",\n        \"std\": 45696,\n        \"min\": 42000,\n        \"max\": 150000,\n        \"num_unique_values\": 5,\n        \"samples\": [\n          120000,\n          42000,\n          76000\n        ],\n        \"semantic_type\": \"\",\n        \"description\": \"\"\n      }\n    },\n    {\n      \"column\": \"person_home_ownership\",\n      \"properties\": {\n        \"dtype\": \"category\",\n        \"num_unique_values\": 2,\n        \"samples\": [\n          \"RENT\",\n          \"MORTGAGE\"\n        ],\n        \"semantic_type\": \"\",\n        \"description\": \"\"\n      }\n    },\n    {\n      \"column\": \"person_emp_length\",\n      \"properties\": {\n        \"dtype\": \"number\",\n        \"std\": 1.5811388300841898,\n        \"min\": 1.0,\n        \"max\": 5.0,\n        \"num_unique_values\": 5,\n        \"samples\": [\n          4.0,\n          2.0\n        ],\n        \"semantic_type\": \"\",\n        \"description\": \"\"\n      }\n    },\n    {\n      \"column\": \"loan_intent\",\n      \"properties\": {\n        \"dtype\": \"string\",\n        \"num_unique_values\": 3,\n        \"samples\": [\n          \"PERSONAL\",\n          \"HOMEIMPROVEMENT\"\n        ],\n        \"semantic_type\": \"\",\n        \"description\": \"\"\n      }\n    },\n    {\n      \"column\": \"loan_grade\",\n      \"properties\": {\n        \"dtype\": \"string\",\n        \"num_unique_values\": 3,\n        \"samples\": [\n          \"C\",\n          \"A\"\n        ],\n        \"semantic_type\": \"\",\n        \"description\": \"\"\n      }\n    },\n    {\n      \"column\": \"loan_amnt\",\n      \"properties\": {\n        \"dtype\": \"number\",\n        \"std\": 11825,\n        \"min\": 5800,\n        \"max\": 35000,\n        \"num_unique_values\": 5,\n        \"samples\": [\n          17625,\n          6475\n        ],\n        \"semantic_type\": \"\",\n        \"description\": \"\"\n      }\n    },\n    {\n      \"column\": \"loan_int_rate\",\n      \"properties\": {\n        \"dtype\": \"number\",\n        \"std\": 2.0929572379769255,\n        \"min\": 7.49,\n        \"max\": 13.16,\n        \"num_unique_values\": 5,\n        \"samples\": [\n          7.49,\n          9.99\n        ],\n        \"semantic_type\": \"\",\n        \"description\": \"\"\n      }\n    },\n    {\n      \"column\": \"loan_status\",\n      \"properties\": {\n        \"dtype\": \"number\",\n        \"std\": 0,\n        \"min\": 0,\n        \"max\": 1,\n        \"num_unique_values\": 2,\n        \"samples\": [\n          1,\n          0\n        ],\n        \"semantic_type\": \"\",\n        \"description\": \"\"\n      }\n    },\n    {\n      \"column\": \"loan_percent_income\",\n      \"properties\": {\n        \"dtype\": \"number\",\n        \"std\": 0.15043270920913446,\n        \"min\": 0.1,\n        \"max\": 0.46,\n        \"num_unique_values\": 4,\n        \"samples\": [\n          0.15,\n          0.1\n        ],\n        \"semantic_type\": \"\",\n        \"description\": \"\"\n      }\n    },\n    {\n      \"column\": \"cb_person_default_on_file\",\n      \"properties\": {\n        \"dtype\": \"category\",\n        \"num_unique_values\": 1,\n        \"samples\": [\n          \"N\"\n        ],\n        \"semantic_type\": \"\",\n        \"description\": \"\"\n      }\n    },\n    {\n      \"column\": \"cb_person_cred_hist_length\",\n      \"properties\": {\n        \"dtype\": \"number\",\n        \"std\": 4,\n        \"min\": 19,\n        \"max\": 30,\n        \"num_unique_values\": 4,\n        \"samples\": [\n          19\n        ],\n        \"semantic_type\": \"\",\n        \"description\": \"\"\n      }\n    }\n  ]\n}"
            }
          },
          "metadata": {},
          "execution_count": 4
        }
      ]
    },
    {
      "cell_type": "code",
      "source": [
        "df.shape"
      ],
      "metadata": {
        "colab": {
          "base_uri": "https://localhost:8080/"
        },
        "id": "n8y7m5vHFllq",
        "outputId": "461fdf05-5f7e-46e2-9b3d-0e4f798501fb"
      },
      "execution_count": null,
      "outputs": [
        {
          "output_type": "execute_result",
          "data": {
            "text/plain": [
              "(32581, 12)"
            ]
          },
          "metadata": {},
          "execution_count": 5
        }
      ]
    },
    {
      "cell_type": "code",
      "source": [
        "df.columns"
      ],
      "metadata": {
        "colab": {
          "base_uri": "https://localhost:8080/"
        },
        "id": "z0LAmXCBK4lY",
        "outputId": "fcf7f45b-03c1-44e1-827a-e1ea13224df0"
      },
      "execution_count": null,
      "outputs": [
        {
          "output_type": "execute_result",
          "data": {
            "text/plain": [
              "Index(['person_age', 'person_income', 'person_home_ownership',\n",
              "       'person_emp_length', 'loan_intent', 'loan_grade', 'loan_amnt',\n",
              "       'loan_int_rate', 'loan_status', 'loan_percent_income',\n",
              "       'cb_person_default_on_file', 'cb_person_cred_hist_length'],\n",
              "      dtype='object')"
            ]
          },
          "metadata": {},
          "execution_count": 12
        }
      ]
    },
    {
      "cell_type": "code",
      "source": [
        "df.info()"
      ],
      "metadata": {
        "colab": {
          "base_uri": "https://localhost:8080/"
        },
        "id": "2ee8bPlGFlcs",
        "outputId": "2f974b2a-ce8f-4360-f403-cdf7e96c4ca7"
      },
      "execution_count": null,
      "outputs": [
        {
          "output_type": "stream",
          "name": "stdout",
          "text": [
            "<class 'pandas.core.frame.DataFrame'>\n",
            "RangeIndex: 32581 entries, 0 to 32580\n",
            "Data columns (total 12 columns):\n",
            " #   Column                      Non-Null Count  Dtype  \n",
            "---  ------                      --------------  -----  \n",
            " 0   person_age                  32581 non-null  int64  \n",
            " 1   person_income               32581 non-null  int64  \n",
            " 2   person_home_ownership       32581 non-null  object \n",
            " 3   person_emp_length           31686 non-null  float64\n",
            " 4   loan_intent                 32581 non-null  object \n",
            " 5   loan_grade                  32581 non-null  object \n",
            " 6   loan_amnt                   32581 non-null  int64  \n",
            " 7   loan_int_rate               29465 non-null  float64\n",
            " 8   loan_status                 32581 non-null  int64  \n",
            " 9   loan_percent_income         32581 non-null  float64\n",
            " 10  cb_person_default_on_file   32581 non-null  object \n",
            " 11  cb_person_cred_hist_length  32581 non-null  int64  \n",
            "dtypes: float64(3), int64(5), object(4)\n",
            "memory usage: 3.0+ MB\n"
          ]
        }
      ]
    },
    {
      "cell_type": "code",
      "source": [
        "df.describe().T"
      ],
      "metadata": {
        "colab": {
          "base_uri": "https://localhost:8080/",
          "height": 425
        },
        "id": "s_OqTC4mFlRh",
        "outputId": "622f30d6-0ab3-47e7-f18b-65d47fe14dc9"
      },
      "execution_count": null,
      "outputs": [
        {
          "output_type": "execute_result",
          "data": {
            "text/plain": [
              "                              count          mean           std      min  \\\n",
              "person_age                  28638.0     27.708918      6.162906    20.00   \n",
              "person_income               28638.0  54362.871115  19831.718077  4000.00   \n",
              "person_home_ownership       28638.0      1.680669      1.434497     0.00   \n",
              "person_emp_length           28638.0      4.779153      4.029778     0.00   \n",
              "loan_intent                 28638.0      2.531322      1.729816     0.00   \n",
              "loan_grade                  28638.0      1.228158      1.170746     0.00   \n",
              "loan_amnt                   28638.0   9497.570536   5992.283803  1000.00   \n",
              "loan_int_rate               28638.0     11.014899      3.190992     5.42   \n",
              "loan_status                 28638.0      0.216600      0.411935     0.00   \n",
              "loan_percent_income         28638.0      0.207745      0.067907     0.17   \n",
              "cb_person_default_on_file   28638.0      0.178190      0.382679     0.00   \n",
              "cb_person_cred_hist_length  28638.0      5.647322      3.713224     2.00   \n",
              "\n",
              "                                 25%       50%       75%        max  \n",
              "person_age                     23.00     26.00     30.00      80.00  \n",
              "person_income               39480.00  55956.00  65000.00  100000.00  \n",
              "person_home_ownership           0.00      3.00      3.00       3.00  \n",
              "person_emp_length               2.00      4.00      7.00      38.00  \n",
              "loan_intent                     1.00      3.00      4.00       5.00  \n",
              "loan_grade                      0.00      1.00      2.00       6.00  \n",
              "loan_amnt                    5000.00   8000.00  12000.00   30000.00  \n",
              "loan_int_rate                   7.90     10.99     13.47      19.91  \n",
              "loan_status                     0.00      0.00      0.00       1.00  \n",
              "loan_percent_income             0.17      0.17      0.22       0.50  \n",
              "cb_person_default_on_file       0.00      0.00      0.00       1.00  \n",
              "cb_person_cred_hist_length      3.00      4.00      8.00      20.00  "
            ],
            "text/html": [
              "\n",
              "  <div id=\"df-271d673c-bf97-41bf-be03-6bac2a53d2f3\" class=\"colab-df-container\">\n",
              "    <div>\n",
              "<style scoped>\n",
              "    .dataframe tbody tr th:only-of-type {\n",
              "        vertical-align: middle;\n",
              "    }\n",
              "\n",
              "    .dataframe tbody tr th {\n",
              "        vertical-align: top;\n",
              "    }\n",
              "\n",
              "    .dataframe thead th {\n",
              "        text-align: right;\n",
              "    }\n",
              "</style>\n",
              "<table border=\"1\" class=\"dataframe\">\n",
              "  <thead>\n",
              "    <tr style=\"text-align: right;\">\n",
              "      <th></th>\n",
              "      <th>count</th>\n",
              "      <th>mean</th>\n",
              "      <th>std</th>\n",
              "      <th>min</th>\n",
              "      <th>25%</th>\n",
              "      <th>50%</th>\n",
              "      <th>75%</th>\n",
              "      <th>max</th>\n",
              "    </tr>\n",
              "  </thead>\n",
              "  <tbody>\n",
              "    <tr>\n",
              "      <th>person_age</th>\n",
              "      <td>28638.0</td>\n",
              "      <td>27.708918</td>\n",
              "      <td>6.162906</td>\n",
              "      <td>20.00</td>\n",
              "      <td>23.00</td>\n",
              "      <td>26.00</td>\n",
              "      <td>30.00</td>\n",
              "      <td>80.00</td>\n",
              "    </tr>\n",
              "    <tr>\n",
              "      <th>person_income</th>\n",
              "      <td>28638.0</td>\n",
              "      <td>54362.871115</td>\n",
              "      <td>19831.718077</td>\n",
              "      <td>4000.00</td>\n",
              "      <td>39480.00</td>\n",
              "      <td>55956.00</td>\n",
              "      <td>65000.00</td>\n",
              "      <td>100000.00</td>\n",
              "    </tr>\n",
              "    <tr>\n",
              "      <th>person_home_ownership</th>\n",
              "      <td>28638.0</td>\n",
              "      <td>1.680669</td>\n",
              "      <td>1.434497</td>\n",
              "      <td>0.00</td>\n",
              "      <td>0.00</td>\n",
              "      <td>3.00</td>\n",
              "      <td>3.00</td>\n",
              "      <td>3.00</td>\n",
              "    </tr>\n",
              "    <tr>\n",
              "      <th>person_emp_length</th>\n",
              "      <td>28638.0</td>\n",
              "      <td>4.779153</td>\n",
              "      <td>4.029778</td>\n",
              "      <td>0.00</td>\n",
              "      <td>2.00</td>\n",
              "      <td>4.00</td>\n",
              "      <td>7.00</td>\n",
              "      <td>38.00</td>\n",
              "    </tr>\n",
              "    <tr>\n",
              "      <th>loan_intent</th>\n",
              "      <td>28638.0</td>\n",
              "      <td>2.531322</td>\n",
              "      <td>1.729816</td>\n",
              "      <td>0.00</td>\n",
              "      <td>1.00</td>\n",
              "      <td>3.00</td>\n",
              "      <td>4.00</td>\n",
              "      <td>5.00</td>\n",
              "    </tr>\n",
              "    <tr>\n",
              "      <th>loan_grade</th>\n",
              "      <td>28638.0</td>\n",
              "      <td>1.228158</td>\n",
              "      <td>1.170746</td>\n",
              "      <td>0.00</td>\n",
              "      <td>0.00</td>\n",
              "      <td>1.00</td>\n",
              "      <td>2.00</td>\n",
              "      <td>6.00</td>\n",
              "    </tr>\n",
              "    <tr>\n",
              "      <th>loan_amnt</th>\n",
              "      <td>28638.0</td>\n",
              "      <td>9497.570536</td>\n",
              "      <td>5992.283803</td>\n",
              "      <td>1000.00</td>\n",
              "      <td>5000.00</td>\n",
              "      <td>8000.00</td>\n",
              "      <td>12000.00</td>\n",
              "      <td>30000.00</td>\n",
              "    </tr>\n",
              "    <tr>\n",
              "      <th>loan_int_rate</th>\n",
              "      <td>28638.0</td>\n",
              "      <td>11.014899</td>\n",
              "      <td>3.190992</td>\n",
              "      <td>5.42</td>\n",
              "      <td>7.90</td>\n",
              "      <td>10.99</td>\n",
              "      <td>13.47</td>\n",
              "      <td>19.91</td>\n",
              "    </tr>\n",
              "    <tr>\n",
              "      <th>loan_status</th>\n",
              "      <td>28638.0</td>\n",
              "      <td>0.216600</td>\n",
              "      <td>0.411935</td>\n",
              "      <td>0.00</td>\n",
              "      <td>0.00</td>\n",
              "      <td>0.00</td>\n",
              "      <td>0.00</td>\n",
              "      <td>1.00</td>\n",
              "    </tr>\n",
              "    <tr>\n",
              "      <th>loan_percent_income</th>\n",
              "      <td>28638.0</td>\n",
              "      <td>0.207745</td>\n",
              "      <td>0.067907</td>\n",
              "      <td>0.17</td>\n",
              "      <td>0.17</td>\n",
              "      <td>0.17</td>\n",
              "      <td>0.22</td>\n",
              "      <td>0.50</td>\n",
              "    </tr>\n",
              "    <tr>\n",
              "      <th>cb_person_default_on_file</th>\n",
              "      <td>28638.0</td>\n",
              "      <td>0.178190</td>\n",
              "      <td>0.382679</td>\n",
              "      <td>0.00</td>\n",
              "      <td>0.00</td>\n",
              "      <td>0.00</td>\n",
              "      <td>0.00</td>\n",
              "      <td>1.00</td>\n",
              "    </tr>\n",
              "    <tr>\n",
              "      <th>cb_person_cred_hist_length</th>\n",
              "      <td>28638.0</td>\n",
              "      <td>5.647322</td>\n",
              "      <td>3.713224</td>\n",
              "      <td>2.00</td>\n",
              "      <td>3.00</td>\n",
              "      <td>4.00</td>\n",
              "      <td>8.00</td>\n",
              "      <td>20.00</td>\n",
              "    </tr>\n",
              "  </tbody>\n",
              "</table>\n",
              "</div>\n",
              "    <div class=\"colab-df-buttons\">\n",
              "\n",
              "  <div class=\"colab-df-container\">\n",
              "    <button class=\"colab-df-convert\" onclick=\"convertToInteractive('df-271d673c-bf97-41bf-be03-6bac2a53d2f3')\"\n",
              "            title=\"Convert this dataframe to an interactive table.\"\n",
              "            style=\"display:none;\">\n",
              "\n",
              "  <svg xmlns=\"http://www.w3.org/2000/svg\" height=\"24px\" viewBox=\"0 -960 960 960\">\n",
              "    <path d=\"M120-120v-720h720v720H120Zm60-500h600v-160H180v160Zm220 220h160v-160H400v160Zm0 220h160v-160H400v160ZM180-400h160v-160H180v160Zm440 0h160v-160H620v160ZM180-180h160v-160H180v160Zm440 0h160v-160H620v160Z\"/>\n",
              "  </svg>\n",
              "    </button>\n",
              "\n",
              "  <style>\n",
              "    .colab-df-container {\n",
              "      display:flex;\n",
              "      gap: 12px;\n",
              "    }\n",
              "\n",
              "    .colab-df-convert {\n",
              "      background-color: #E8F0FE;\n",
              "      border: none;\n",
              "      border-radius: 50%;\n",
              "      cursor: pointer;\n",
              "      display: none;\n",
              "      fill: #1967D2;\n",
              "      height: 32px;\n",
              "      padding: 0 0 0 0;\n",
              "      width: 32px;\n",
              "    }\n",
              "\n",
              "    .colab-df-convert:hover {\n",
              "      background-color: #E2EBFA;\n",
              "      box-shadow: 0px 1px 2px rgba(60, 64, 67, 0.3), 0px 1px 3px 1px rgba(60, 64, 67, 0.15);\n",
              "      fill: #174EA6;\n",
              "    }\n",
              "\n",
              "    .colab-df-buttons div {\n",
              "      margin-bottom: 4px;\n",
              "    }\n",
              "\n",
              "    [theme=dark] .colab-df-convert {\n",
              "      background-color: #3B4455;\n",
              "      fill: #D2E3FC;\n",
              "    }\n",
              "\n",
              "    [theme=dark] .colab-df-convert:hover {\n",
              "      background-color: #434B5C;\n",
              "      box-shadow: 0px 1px 3px 1px rgba(0, 0, 0, 0.15);\n",
              "      filter: drop-shadow(0px 1px 2px rgba(0, 0, 0, 0.3));\n",
              "      fill: #FFFFFF;\n",
              "    }\n",
              "  </style>\n",
              "\n",
              "    <script>\n",
              "      const buttonEl =\n",
              "        document.querySelector('#df-271d673c-bf97-41bf-be03-6bac2a53d2f3 button.colab-df-convert');\n",
              "      buttonEl.style.display =\n",
              "        google.colab.kernel.accessAllowed ? 'block' : 'none';\n",
              "\n",
              "      async function convertToInteractive(key) {\n",
              "        const element = document.querySelector('#df-271d673c-bf97-41bf-be03-6bac2a53d2f3');\n",
              "        const dataTable =\n",
              "          await google.colab.kernel.invokeFunction('convertToInteractive',\n",
              "                                                    [key], {});\n",
              "        if (!dataTable) return;\n",
              "\n",
              "        const docLinkHtml = 'Like what you see? Visit the ' +\n",
              "          '<a target=\"_blank\" href=https://colab.research.google.com/notebooks/data_table.ipynb>data table notebook</a>'\n",
              "          + ' to learn more about interactive tables.';\n",
              "        element.innerHTML = '';\n",
              "        dataTable['output_type'] = 'display_data';\n",
              "        await google.colab.output.renderOutput(dataTable, element);\n",
              "        const docLink = document.createElement('div');\n",
              "        docLink.innerHTML = docLinkHtml;\n",
              "        element.appendChild(docLink);\n",
              "      }\n",
              "    </script>\n",
              "  </div>\n",
              "\n",
              "\n",
              "<div id=\"df-8481ec1c-15b4-4af1-98eb-446515e59e98\">\n",
              "  <button class=\"colab-df-quickchart\" onclick=\"quickchart('df-8481ec1c-15b4-4af1-98eb-446515e59e98')\"\n",
              "            title=\"Suggest charts\"\n",
              "            style=\"display:none;\">\n",
              "\n",
              "<svg xmlns=\"http://www.w3.org/2000/svg\" height=\"24px\"viewBox=\"0 0 24 24\"\n",
              "     width=\"24px\">\n",
              "    <g>\n",
              "        <path d=\"M19 3H5c-1.1 0-2 .9-2 2v14c0 1.1.9 2 2 2h14c1.1 0 2-.9 2-2V5c0-1.1-.9-2-2-2zM9 17H7v-7h2v7zm4 0h-2V7h2v10zm4 0h-2v-4h2v4z\"/>\n",
              "    </g>\n",
              "</svg>\n",
              "  </button>\n",
              "\n",
              "<style>\n",
              "  .colab-df-quickchart {\n",
              "      --bg-color: #E8F0FE;\n",
              "      --fill-color: #1967D2;\n",
              "      --hover-bg-color: #E2EBFA;\n",
              "      --hover-fill-color: #174EA6;\n",
              "      --disabled-fill-color: #AAA;\n",
              "      --disabled-bg-color: #DDD;\n",
              "  }\n",
              "\n",
              "  [theme=dark] .colab-df-quickchart {\n",
              "      --bg-color: #3B4455;\n",
              "      --fill-color: #D2E3FC;\n",
              "      --hover-bg-color: #434B5C;\n",
              "      --hover-fill-color: #FFFFFF;\n",
              "      --disabled-bg-color: #3B4455;\n",
              "      --disabled-fill-color: #666;\n",
              "  }\n",
              "\n",
              "  .colab-df-quickchart {\n",
              "    background-color: var(--bg-color);\n",
              "    border: none;\n",
              "    border-radius: 50%;\n",
              "    cursor: pointer;\n",
              "    display: none;\n",
              "    fill: var(--fill-color);\n",
              "    height: 32px;\n",
              "    padding: 0;\n",
              "    width: 32px;\n",
              "  }\n",
              "\n",
              "  .colab-df-quickchart:hover {\n",
              "    background-color: var(--hover-bg-color);\n",
              "    box-shadow: 0 1px 2px rgba(60, 64, 67, 0.3), 0 1px 3px 1px rgba(60, 64, 67, 0.15);\n",
              "    fill: var(--button-hover-fill-color);\n",
              "  }\n",
              "\n",
              "  .colab-df-quickchart-complete:disabled,\n",
              "  .colab-df-quickchart-complete:disabled:hover {\n",
              "    background-color: var(--disabled-bg-color);\n",
              "    fill: var(--disabled-fill-color);\n",
              "    box-shadow: none;\n",
              "  }\n",
              "\n",
              "  .colab-df-spinner {\n",
              "    border: 2px solid var(--fill-color);\n",
              "    border-color: transparent;\n",
              "    border-bottom-color: var(--fill-color);\n",
              "    animation:\n",
              "      spin 1s steps(1) infinite;\n",
              "  }\n",
              "\n",
              "  @keyframes spin {\n",
              "    0% {\n",
              "      border-color: transparent;\n",
              "      border-bottom-color: var(--fill-color);\n",
              "      border-left-color: var(--fill-color);\n",
              "    }\n",
              "    20% {\n",
              "      border-color: transparent;\n",
              "      border-left-color: var(--fill-color);\n",
              "      border-top-color: var(--fill-color);\n",
              "    }\n",
              "    30% {\n",
              "      border-color: transparent;\n",
              "      border-left-color: var(--fill-color);\n",
              "      border-top-color: var(--fill-color);\n",
              "      border-right-color: var(--fill-color);\n",
              "    }\n",
              "    40% {\n",
              "      border-color: transparent;\n",
              "      border-right-color: var(--fill-color);\n",
              "      border-top-color: var(--fill-color);\n",
              "    }\n",
              "    60% {\n",
              "      border-color: transparent;\n",
              "      border-right-color: var(--fill-color);\n",
              "    }\n",
              "    80% {\n",
              "      border-color: transparent;\n",
              "      border-right-color: var(--fill-color);\n",
              "      border-bottom-color: var(--fill-color);\n",
              "    }\n",
              "    90% {\n",
              "      border-color: transparent;\n",
              "      border-bottom-color: var(--fill-color);\n",
              "    }\n",
              "  }\n",
              "</style>\n",
              "\n",
              "  <script>\n",
              "    async function quickchart(key) {\n",
              "      const quickchartButtonEl =\n",
              "        document.querySelector('#' + key + ' button');\n",
              "      quickchartButtonEl.disabled = true;  // To prevent multiple clicks.\n",
              "      quickchartButtonEl.classList.add('colab-df-spinner');\n",
              "      try {\n",
              "        const charts = await google.colab.kernel.invokeFunction(\n",
              "            'suggestCharts', [key], {});\n",
              "      } catch (error) {\n",
              "        console.error('Error during call to suggestCharts:', error);\n",
              "      }\n",
              "      quickchartButtonEl.classList.remove('colab-df-spinner');\n",
              "      quickchartButtonEl.classList.add('colab-df-quickchart-complete');\n",
              "    }\n",
              "    (() => {\n",
              "      let quickchartButtonEl =\n",
              "        document.querySelector('#df-8481ec1c-15b4-4af1-98eb-446515e59e98 button');\n",
              "      quickchartButtonEl.style.display =\n",
              "        google.colab.kernel.accessAllowed ? 'block' : 'none';\n",
              "    })();\n",
              "  </script>\n",
              "</div>\n",
              "\n",
              "    </div>\n",
              "  </div>\n"
            ],
            "application/vnd.google.colaboratory.intrinsic+json": {
              "type": "dataframe",
              "summary": "{\n  \"name\": \"df\",\n  \"rows\": 12,\n  \"fields\": [\n    {\n      \"column\": \"count\",\n      \"properties\": {\n        \"dtype\": \"number\",\n        \"std\": 0.0,\n        \"min\": 28638.0,\n        \"max\": 28638.0,\n        \"num_unique_values\": 1,\n        \"samples\": [\n          28638.0\n        ],\n        \"semantic_type\": \"\",\n        \"description\": \"\"\n      }\n    },\n    {\n      \"column\": \"mean\",\n      \"properties\": {\n        \"dtype\": \"number\",\n        \"std\": 15681.756996684066,\n        \"min\": 0.17818981772470144,\n        \"max\": 54362.87111530135,\n        \"num_unique_values\": 12,\n        \"samples\": [\n          0.17818981772470144\n        ],\n        \"semantic_type\": \"\",\n        \"description\": \"\"\n      }\n    },\n    {\n      \"column\": \"std\",\n      \"properties\": {\n        \"dtype\": \"number\",\n        \"std\": 5827.3285555915645,\n        \"min\": 0.06790745749347746,\n        \"max\": 19831.71807734434,\n        \"num_unique_values\": 12,\n        \"samples\": [\n          0.38267913476626086\n        ],\n        \"semantic_type\": \"\",\n        \"description\": \"\"\n      }\n    },\n    {\n      \"column\": \"min\",\n      \"properties\": {\n        \"dtype\": \"number\",\n        \"std\": 1163.61681334503,\n        \"min\": 0.0,\n        \"max\": 4000.0,\n        \"num_unique_values\": 7,\n        \"samples\": [\n          20.0\n        ],\n        \"semantic_type\": \"\",\n        \"description\": \"\"\n      }\n    },\n    {\n      \"column\": \"25%\",\n      \"properties\": {\n        \"dtype\": \"number\",\n        \"std\": 11355.909736278252,\n        \"min\": 0.0,\n        \"max\": 39480.0,\n        \"num_unique_values\": 9,\n        \"samples\": [\n          0.17\n        ],\n        \"semantic_type\": \"\",\n        \"description\": \"\"\n      }\n    },\n    {\n      \"column\": \"50%\",\n      \"properties\": {\n        \"dtype\": \"number\",\n        \"std\": 16106.617513327377,\n        \"min\": 0.0,\n        \"max\": 55956.0,\n        \"num_unique_values\": 9,\n        \"samples\": [\n          0.0\n        ],\n        \"semantic_type\": \"\",\n        \"description\": \"\"\n      }\n    },\n    {\n      \"column\": \"75%\",\n      \"properties\": {\n        \"dtype\": \"number\",\n        \"std\": 18766.626131597222,\n        \"min\": 0.0,\n        \"max\": 65000.0,\n        \"num_unique_values\": 11,\n        \"samples\": [\n          2.0\n        ],\n        \"semantic_type\": \"\",\n        \"description\": \"\"\n      }\n    },\n    {\n      \"column\": \"max\",\n      \"properties\": {\n        \"dtype\": \"number\",\n        \"std\": 29368.960053844457,\n        \"min\": 0.5,\n        \"max\": 100000.0,\n        \"num_unique_values\": 11,\n        \"samples\": [\n          6.0\n        ],\n        \"semantic_type\": \"\",\n        \"description\": \"\"\n      }\n    }\n  ]\n}"
            }
          },
          "metadata": {},
          "execution_count": 84
        }
      ]
    },
    {
      "cell_type": "code",
      "source": [
        "df.duplicated().sum()"
      ],
      "metadata": {
        "colab": {
          "base_uri": "https://localhost:8080/"
        },
        "id": "rQu8aPN0FlgL",
        "outputId": "a6d35d0e-3022-47b7-d1b8-9aa186249925"
      },
      "execution_count": null,
      "outputs": [
        {
          "output_type": "execute_result",
          "data": {
            "text/plain": [
              "165"
            ]
          },
          "metadata": {},
          "execution_count": 7
        }
      ]
    },
    {
      "cell_type": "code",
      "source": [
        "df.duplicated().value_counts()"
      ],
      "metadata": {
        "colab": {
          "base_uri": "https://localhost:8080/"
        },
        "id": "dO8ntfFAHiwA",
        "outputId": "08a79c4d-4d71-4f1d-fc21-05cd914020ca"
      },
      "execution_count": null,
      "outputs": [
        {
          "output_type": "execute_result",
          "data": {
            "text/plain": [
              "False    32416\n",
              "True       165\n",
              "Name: count, dtype: int64"
            ]
          },
          "metadata": {},
          "execution_count": 8
        }
      ]
    },
    {
      "cell_type": "code",
      "source": [
        "df.isna().sum()"
      ],
      "metadata": {
        "colab": {
          "base_uri": "https://localhost:8080/"
        },
        "id": "nC3XRjmlFliy",
        "outputId": "c7733d5c-6d6c-4cb3-e705-e4056638f70c"
      },
      "execution_count": null,
      "outputs": [
        {
          "output_type": "execute_result",
          "data": {
            "text/plain": [
              "person_age                       0\n",
              "person_income                    0\n",
              "person_home_ownership            0\n",
              "person_emp_length              895\n",
              "loan_intent                      0\n",
              "loan_grade                       0\n",
              "loan_amnt                        0\n",
              "loan_int_rate                 3116\n",
              "loan_status                      0\n",
              "loan_percent_income              0\n",
              "cb_person_default_on_file        0\n",
              "cb_person_cred_hist_length       0\n",
              "dtype: int64"
            ]
          },
          "metadata": {},
          "execution_count": 13
        }
      ]
    },
    {
      "cell_type": "code",
      "source": [
        "df.dtypes"
      ],
      "metadata": {
        "colab": {
          "base_uri": "https://localhost:8080/"
        },
        "id": "D2RpfR6xFlYD",
        "outputId": "841f8aad-5b70-4127-85b0-b576217cdadf"
      },
      "execution_count": null,
      "outputs": [
        {
          "output_type": "execute_result",
          "data": {
            "text/plain": [
              "person_age                      int64\n",
              "person_income                   int64\n",
              "person_home_ownership          object\n",
              "person_emp_length             float64\n",
              "loan_intent                    object\n",
              "loan_grade                     object\n",
              "loan_amnt                       int64\n",
              "loan_int_rate                 float64\n",
              "loan_status                     int64\n",
              "loan_percent_income           float64\n",
              "cb_person_default_on_file      object\n",
              "cb_person_cred_hist_length      int64\n",
              "dtype: object"
            ]
          },
          "metadata": {},
          "execution_count": 14
        }
      ]
    },
    {
      "cell_type": "code",
      "source": [
        "df.nunique()"
      ],
      "metadata": {
        "colab": {
          "base_uri": "https://localhost:8080/"
        },
        "id": "KoFI59C9Hi40",
        "outputId": "1ac2f0a8-5411-48dc-8e6c-1e45b81f3d3a"
      },
      "execution_count": null,
      "outputs": [
        {
          "output_type": "execute_result",
          "data": {
            "text/plain": [
              "person_age                      58\n",
              "person_income                 4295\n",
              "person_home_ownership            4\n",
              "person_emp_length               36\n",
              "loan_intent                      6\n",
              "loan_grade                       7\n",
              "loan_amnt                      753\n",
              "loan_int_rate                  348\n",
              "loan_status                      2\n",
              "loan_percent_income             77\n",
              "cb_person_default_on_file        2\n",
              "cb_person_cred_hist_length      29\n",
              "dtype: int64"
            ]
          },
          "metadata": {},
          "execution_count": 15
        }
      ]
    },
    {
      "cell_type": "markdown",
      "source": [
        "**Data Visualisation**"
      ],
      "metadata": {
        "id": "7flVj3ij1ZJ8"
      }
    },
    {
      "cell_type": "code",
      "source": [
        "sns.countplot(x=\"loan_status\",data=df,hue='person_home_ownership')"
      ],
      "metadata": {
        "colab": {
          "base_uri": "https://localhost:8080/",
          "height": 467
        },
        "id": "9JiT8bb1IA6c",
        "outputId": "fff87273-576d-430c-9077-5d846f884547"
      },
      "execution_count": null,
      "outputs": [
        {
          "output_type": "execute_result",
          "data": {
            "text/plain": [
              "<Axes: xlabel='loan_status', ylabel='count'>"
            ]
          },
          "metadata": {},
          "execution_count": 16
        },
        {
          "output_type": "display_data",
          "data": {
            "text/plain": [
              "<Figure size 640x480 with 1 Axes>"
            ],
            "image/png": "[encoded data removed]"
          },
          "metadata": {}
        }
      ]
    },
    {
      "cell_type": "code",
      "source": [
        "categorical_features = df.select_dtypes(include=['object']).columns\n",
        "print(categorical_features)\n"
      ],
      "metadata": {
        "colab": {
          "base_uri": "https://localhost:8080/"
        },
        "id": "xMe2cKa9Hiox",
        "outputId": "ca82aff8-f84c-4efe-8f6c-7ca59baef884"
      },
      "execution_count": null,
      "outputs": [
        {
          "output_type": "stream",
          "name": "stdout",
          "text": [
            "Index(['person_home_ownership', 'loan_intent', 'loan_grade',\n",
            "       'cb_person_default_on_file'],\n",
            "      dtype='object')\n"
          ]
        }
      ]
    },
    {
      "cell_type": "code",
      "source": [
        "numerical_features = df.select_dtypes(include=[np.number]).columns\n",
        "print(numerical_features)"
      ],
      "metadata": {
        "colab": {
          "base_uri": "https://localhost:8080/"
        },
        "id": "YV-vv30DHis2",
        "outputId": "86950331-5454-4ac0-9394-019fdfca6f7f"
      },
      "execution_count": null,
      "outputs": [
        {
          "output_type": "stream",
          "name": "stdout",
          "text": [
            "Index(['person_age', 'person_income', 'person_emp_length', 'loan_amnt',\n",
            "       'loan_int_rate', 'loan_status', 'loan_percent_income',\n",
            "       'cb_person_cred_hist_length'],\n",
            "      dtype='object')\n"
          ]
        }
      ]
    },
    {
      "cell_type": "code",
      "source": [
        "plt.figure(figsize=(7,5))\n",
        "sns.countplot(y=\"loan_intent\",data=df,palette=\"Set1\")\n",
        "plt.show()"
      ],
      "metadata": {
        "colab": {
          "base_uri": "https://localhost:8080/",
          "height": 572
        },
        "id": "2UKzHQqfHlVo",
        "outputId": "7d6b089f-d68f-49f2-8281-3d438379ed11"
      },
      "execution_count": null,
      "outputs": [
        {
          "output_type": "stream",
          "name": "stderr",
          "text": [
            "<ipython-input-19-c5ab8bb9d448>:2: FutureWarning: \n",
            "\n",
            "Passing `palette` without assigning `hue` is deprecated and will be removed in v0.14.0. Assign the `y` variable to `hue` and set `legend=False` for the same effect.\n",
            "\n",
            "  sns.countplot(y=\"loan_intent\",data=df,palette=\"Set1\")\n"
          ]
        },
        {
          "output_type": "display_data",
          "data": {
            "text/plain": [
              "<Figure size 700x500 with 1 Axes>"
            ],
            "image/png": "[encoded data removed]"
          },
          "metadata": {}
        }
      ]
    },
    {
      "cell_type": "code",
      "source": [
        "numerical_col=['person_age', 'person_income', 'person_emp_length', 'loan_amnt',\n",
        "       'loan_int_rate', 'loan_percent_income',\n",
        "       'cb_person_cred_hist_length']\n",
        "plt.figure(figsize=(20, 15))\n",
        "for i, col in enumerate(numerical_col, 1):\n",
        "    plt.subplot(2, 4, i)\n",
        "    sns.boxplot(x='loan_status', y=col, data=df)\n",
        "    plt.title(f'{col} by Loan Status')\n",
        "    plt.grid(False)\n",
        "plt.tight_layout()\n",
        "plt.show()"
      ],
      "metadata": {
        "colab": {
          "base_uri": "https://localhost:8080/",
          "height": 815
        },
        "id": "LvylyqgbHi_V",
        "outputId": "52e62d5e-edf8-4682-b8e0-4565394d74e5"
      },
      "execution_count": null,
      "outputs": [
        {
          "output_type": "display_data",
          "data": {
            "text/plain": [
              "<Figure size 2000x1500 with 7 Axes>"
            ],
            "image/png": "[encoded data removed]"
          },
          "metadata": {}
        }
      ]
    },
    {
      "cell_type": "markdown",
      "source": [
        "**Data Preprocessing**"
      ],
      "metadata": {
        "id": "SLz7rbbb1hGJ"
      }
    },
    {
      "cell_type": "code",
      "source": [
        "df = df.dropna(subset=['person_emp_length', 'loan_int_rate'])\n",
        "df.isnull().sum()"
      ],
      "metadata": {
        "colab": {
          "base_uri": "https://localhost:8080/"
        },
        "id": "6Gk3k_1drbmR",
        "outputId": "ee7cc9b7-2369-4cf2-dd1e-0bfa10e227a4"
      },
      "execution_count": null,
      "outputs": [
        {
          "output_type": "execute_result",
          "data": {
            "text/plain": [
              "person_age                    0\n",
              "person_income                 0\n",
              "person_home_ownership         0\n",
              "person_emp_length             0\n",
              "loan_intent                   0\n",
              "loan_grade                    0\n",
              "loan_amnt                     0\n",
              "loan_int_rate                 0\n",
              "loan_status                   0\n",
              "loan_percent_income           0\n",
              "cb_person_default_on_file     0\n",
              "cb_person_cred_hist_length    0\n",
              "dtype: int64"
            ]
          },
          "metadata": {},
          "execution_count": 21
        }
      ]
    },
    {
      "cell_type": "code",
      "source": [
        "df['person_age'].value_counts()"
      ],
      "metadata": {
        "colab": {
          "base_uri": "https://localhost:8080/"
        },
        "id": "km7jKsdTHi8B",
        "outputId": "81234025-74dc-4203-fb53-ee4bdf1a780d"
      },
      "execution_count": null,
      "outputs": [
        {
          "output_type": "execute_result",
          "data": {
            "text/plain": [
              "person_age\n",
              "23     3413\n",
              "22     3163\n",
              "24     3130\n",
              "25     2700\n",
              "26     2201\n",
              "27     1887\n",
              "28     1624\n",
              "29     1493\n",
              "30     1126\n",
              "21     1061\n",
              "31     1008\n",
              "32      860\n",
              "33      758\n",
              "34      625\n",
              "35      559\n",
              "36      482\n",
              "37      409\n",
              "38      321\n",
              "39      270\n",
              "40      236\n",
              "41      218\n",
              "42      165\n",
              "43      142\n",
              "44      116\n",
              "45       91\n",
              "46       86\n",
              "47       76\n",
              "48       65\n",
              "50       45\n",
              "49       41\n",
              "52       33\n",
              "51       33\n",
              "53       26\n",
              "54       21\n",
              "55       18\n",
              "58       17\n",
              "57       15\n",
              "56       14\n",
              "20       14\n",
              "60       13\n",
              "61        8\n",
              "66        8\n",
              "64        7\n",
              "62        6\n",
              "69        5\n",
              "70        5\n",
              "59        5\n",
              "65        5\n",
              "144       3\n",
              "63        3\n",
              "73        2\n",
              "78        1\n",
              "123       1\n",
              "80        1\n",
              "84        1\n",
              "76        1\n",
              "67        1\n",
              "Name: count, dtype: int64"
            ]
          },
          "metadata": {},
          "execution_count": 22
        }
      ]
    },
    {
      "cell_type": "code",
      "source": [
        "df['person_age'].unique()"
      ],
      "metadata": {
        "colab": {
          "base_uri": "https://localhost:8080/"
        },
        "id": "V1y_erlATa5n",
        "outputId": "07944bda-f6ff-45bb-fa9d-eb1e4927a60b"
      },
      "execution_count": null,
      "outputs": [
        {
          "output_type": "execute_result",
          "data": {
            "text/plain": [
              "array([ 22,  21,  25,  23,  24,  26, 144, 123,  20,  32,  34,  29,  33,\n",
              "        28,  35,  31,  27,  30,  36,  50,  37,  39,  40,  43,  41,  46,\n",
              "        38,  47,  42,  44,  48,  45,  49,  58,  65,  51,  53,  66,  57,\n",
              "        59,  62,  54,  60,  55,  52,  61,  64,  70,  78,  69,  56,  73,\n",
              "        63,  80,  84,  76,  67])"
            ]
          },
          "metadata": {},
          "execution_count": 23
        }
      ]
    },
    {
      "cell_type": "code",
      "source": [
        "age= df['person_age'].mode()[0]\n",
        "df['person_age'] = df['person_age'].apply(lambda x: age if x > 80 else x)\n",
        "df['person_age'].unique()"
      ],
      "metadata": {
        "colab": {
          "base_uri": "https://localhost:8080/"
        },
        "id": "QcHfdGv_HjET",
        "outputId": "c1d7209d-a556-4fc4-f41a-689ae675e04e"
      },
      "execution_count": null,
      "outputs": [
        {
          "output_type": "stream",
          "name": "stderr",
          "text": [
            "<ipython-input-24-59142ac78117>:2: SettingWithCopyWarning: \n",
            "A value is trying to be set on a copy of a slice from a DataFrame.\n",
            "Try using .loc[row_indexer,col_indexer] = value instead\n",
            "\n",
            "See the caveats in the documentation: https://pandas.pydata.org/pandas-docs/stable/user_guide/indexing.html#returning-a-view-versus-a-copy\n",
            "  df['person_age'] = df['person_age'].apply(lambda x: age if x > 80 else x)\n"
          ]
        },
        {
          "output_type": "execute_result",
          "data": {
            "text/plain": [
              "array([22, 21, 25, 23, 24, 26, 20, 32, 34, 29, 33, 28, 35, 31, 27, 30, 36,\n",
              "       50, 37, 39, 40, 43, 41, 46, 38, 47, 42, 44, 48, 45, 49, 58, 65, 51,\n",
              "       53, 66, 57, 59, 62, 54, 60, 55, 52, 61, 64, 70, 78, 69, 56, 73, 63,\n",
              "       80, 76, 67])"
            ]
          },
          "metadata": {},
          "execution_count": 24
        }
      ]
    },
    {
      "cell_type": "code",
      "source": [
        "df['person_income'].value_counts()"
      ],
      "metadata": {
        "colab": {
          "base_uri": "https://localhost:8080/"
        },
        "id": "7U0zNH88UxSX",
        "outputId": "8cb4dd82-ec58-4b04-81c9-9bf5cd6f3700"
      },
      "execution_count": null,
      "outputs": [
        {
          "output_type": "execute_result",
          "data": {
            "text/plain": [
              "person_income\n",
              "60000     924\n",
              "30000     729\n",
              "50000     677\n",
              "40000     585\n",
              "45000     535\n",
              "         ... \n",
              "99200       1\n",
              "99473       1\n",
              "47230       1\n",
              "99670       1\n",
              "720000      1\n",
              "Name: count, Length: 3835, dtype: int64"
            ]
          },
          "metadata": {},
          "execution_count": 25
        }
      ]
    },
    {
      "cell_type": "code",
      "source": [
        "df['person_income'].unique()"
      ],
      "metadata": {
        "colab": {
          "base_uri": "https://localhost:8080/"
        },
        "id": "SDhRDL2mVge1",
        "outputId": "efd9e8a2-4acd-4553-bec6-9c5177104d89"
      },
      "execution_count": null,
      "outputs": [
        {
          "output_type": "execute_result",
          "data": {
            "text/plain": [
              "array([ 59000,   9600,  65500, ...,  39240, 129000, 720000])"
            ]
          },
          "metadata": {},
          "execution_count": 26
        }
      ]
    },
    {
      "cell_type": "code",
      "source": [
        "income=df['person_income'].mode()[0]\n",
        "df['person_income']=df['person_income'].apply(lambda x: income if x>100000 else x)\n",
        "df['person_income'].unique()"
      ],
      "metadata": {
        "colab": {
          "base_uri": "https://localhost:8080/"
        },
        "id": "n11dC8UvV-8_",
        "outputId": "40d5115e-626a-4ff5-e700-93a1b517905c"
      },
      "execution_count": null,
      "outputs": [
        {
          "output_type": "stream",
          "name": "stderr",
          "text": [
            "<ipython-input-27-0d28cbce6952>:2: SettingWithCopyWarning: \n",
            "A value is trying to be set on a copy of a slice from a DataFrame.\n",
            "Try using .loc[row_indexer,col_indexer] = value instead\n",
            "\n",
            "See the caveats in the documentation: https://pandas.pydata.org/pandas-docs/stable/user_guide/indexing.html#returning-a-view-versus-a-copy\n",
            "  df['person_income']=df['person_income'].apply(lambda x: income if x>100000 else x)\n"
          ]
        },
        {
          "output_type": "execute_result",
          "data": {
            "text/plain": [
              "array([59000,  9600, 65500, ..., 91154, 97800, 39240])"
            ]
          },
          "metadata": {},
          "execution_count": 27
        }
      ]
    },
    {
      "cell_type": "code",
      "source": [
        "df['person_emp_length'].value_counts()"
      ],
      "metadata": {
        "colab": {
          "base_uri": "https://localhost:8080/"
        },
        "id": "NzIxGKf-VFKI",
        "outputId": "7cf472e1-46b7-4f1c-87cd-aa8e6d19c716"
      },
      "execution_count": null,
      "outputs": [
        {
          "output_type": "execute_result",
          "data": {
            "text/plain": [
              "person_emp_length\n",
              "0.0      3708\n",
              "2.0      3469\n",
              "3.0      3133\n",
              "5.0      2715\n",
              "1.0      2644\n",
              "4.0      2571\n",
              "6.0      2394\n",
              "7.0      1971\n",
              "8.0      1534\n",
              "9.0      1227\n",
              "11.0      663\n",
              "10.0      631\n",
              "12.0      519\n",
              "13.0      380\n",
              "14.0      306\n",
              "15.0      213\n",
              "16.0      152\n",
              "17.0      115\n",
              "18.0       96\n",
              "19.0       61\n",
              "20.0       36\n",
              "21.0       33\n",
              "22.0       18\n",
              "23.0       10\n",
              "24.0        8\n",
              "25.0        8\n",
              "27.0        5\n",
              "26.0        4\n",
              "31.0        4\n",
              "28.0        2\n",
              "123.0       2\n",
              "30.0        2\n",
              "41.0        1\n",
              "34.0        1\n",
              "29.0        1\n",
              "38.0        1\n",
              "Name: count, dtype: int64"
            ]
          },
          "metadata": {},
          "execution_count": 28
        }
      ]
    },
    {
      "cell_type": "code",
      "source": [
        "emp=df['person_emp_length'].mean()\n",
        "df['person_emp_length']=df['person_emp_length'].apply(lambda x:emp if x>40.00 else x)\n",
        "# df['person_emp_length'].value_counts()\n",
        "df['person_emp_length']=df['person_emp_length'].round(2)\n",
        "df['person_emp_length'].value_counts()"
      ],
      "metadata": {
        "colab": {
          "base_uri": "https://localhost:8080/"
        },
        "id": "KGGALuhDX3ok",
        "outputId": "b0929e14-439a-4d65-8a57-2cd1c00b6914"
      },
      "execution_count": null,
      "outputs": [
        {
          "output_type": "stream",
          "name": "stderr",
          "text": [
            "<ipython-input-29-73bffa2d370d>:2: SettingWithCopyWarning: \n",
            "A value is trying to be set on a copy of a slice from a DataFrame.\n",
            "Try using .loc[row_indexer,col_indexer] = value instead\n",
            "\n",
            "See the caveats in the documentation: https://pandas.pydata.org/pandas-docs/stable/user_guide/indexing.html#returning-a-view-versus-a-copy\n",
            "  df['person_emp_length']=df['person_emp_length'].apply(lambda x:emp if x>40.00 else x)\n",
            "<ipython-input-29-73bffa2d370d>:4: SettingWithCopyWarning: \n",
            "A value is trying to be set on a copy of a slice from a DataFrame.\n",
            "Try using .loc[row_indexer,col_indexer] = value instead\n",
            "\n",
            "See the caveats in the documentation: https://pandas.pydata.org/pandas-docs/stable/user_guide/indexing.html#returning-a-view-versus-a-copy\n",
            "  df['person_emp_length']=df['person_emp_length'].round(2)\n"
          ]
        },
        {
          "output_type": "execute_result",
          "data": {
            "text/plain": [
              "person_emp_length\n",
              "0.00     3708\n",
              "2.00     3469\n",
              "3.00     3133\n",
              "5.00     2715\n",
              "1.00     2644\n",
              "4.00     2571\n",
              "6.00     2394\n",
              "7.00     1971\n",
              "8.00     1534\n",
              "9.00     1227\n",
              "11.00     663\n",
              "10.00     631\n",
              "12.00     519\n",
              "13.00     380\n",
              "14.00     306\n",
              "15.00     213\n",
              "16.00     152\n",
              "17.00     115\n",
              "18.00      96\n",
              "19.00      61\n",
              "20.00      36\n",
              "21.00      33\n",
              "22.00      18\n",
              "23.00      10\n",
              "24.00       8\n",
              "25.00       8\n",
              "27.00       5\n",
              "31.00       4\n",
              "26.00       4\n",
              "4.79        3\n",
              "28.00       2\n",
              "30.00       2\n",
              "34.00       1\n",
              "29.00       1\n",
              "38.00       1\n",
              "Name: count, dtype: int64"
            ]
          },
          "metadata": {},
          "execution_count": 29
        }
      ]
    },
    {
      "cell_type": "code",
      "source": [
        "df['loan_amnt'].value_counts()\n"
      ],
      "metadata": {
        "colab": {
          "base_uri": "https://localhost:8080/"
        },
        "id": "tnCH0De_VFBi",
        "outputId": "7009243e-324d-4336-9198-7e7035089ed5"
      },
      "execution_count": null,
      "outputs": [
        {
          "output_type": "execute_result",
          "data": {
            "text/plain": [
              "loan_amnt\n",
              "10000    2332\n",
              "5000     1777\n",
              "6000     1597\n",
              "12000    1595\n",
              "15000    1343\n",
              "         ... \n",
              "21450       1\n",
              "21700       1\n",
              "12125       1\n",
              "15125       1\n",
              "19275       1\n",
              "Name: count, Length: 728, dtype: int64"
            ]
          },
          "metadata": {},
          "execution_count": 30
        }
      ]
    },
    {
      "cell_type": "code",
      "source": [
        "df['loan_amnt'].unique()"
      ],
      "metadata": {
        "colab": {
          "base_uri": "https://localhost:8080/"
        },
        "id": "pMhG7kulZ-kR",
        "outputId": "302cce5b-b4e2-47cd-9a7c-0551b8e97c06"
      },
      "execution_count": null,
      "outputs": [
        {
          "output_type": "execute_result",
          "data": {
            "text/plain": [
              "array([35000,  1000,  5500,  2500,  1600,  4500, 30000,  1750, 34800,\n",
              "       34000,  1500, 33950, 33000,  4575,  1400, 32500,  4000,  2000,\n",
              "       32000, 31050, 24250,  7800, 20000, 10000, 25000, 18000, 12000,\n",
              "       29100, 28000,  9600,  3000,  6100,  4200,  4750,  4800,  3250,\n",
              "       27500, 27050, 27000, 26000, 25600, 25475, 21600, 11900, 25300,\n",
              "        3650,  2400,  3600,  7500,  4950, 21000, 16000, 22000,  7750,\n",
              "       24000, 15000, 15500,  9000,  6000, 23050,  5375,  6250,  5000,\n",
              "        2100, 14000,  6200,  9950,  2600,  8000,  4600,  3500,  7200,\n",
              "        8800,  3175,  2800, 13000,  1800,  3300,  3200,  2275,  5600,\n",
              "        3625,  4375, 24750, 24500, 15250, 24150,  4900, 23750, 23600,\n",
              "       23575,  5400, 23400, 23000,  1200, 22750, 22500, 22400, 22250,\n",
              "        7400, 21700, 21500, 21450, 21250, 20900, 20500, 20400, 20375,\n",
              "       20050,  9250,  6400,  5650, 16600,  7125,  7000,  1275,  1625,\n",
              "        8500,  5200,  3800,  4400,  3825,  5875,  1550,  7350, 10625,\n",
              "       19900, 19800,   500,   700,   750, 19000, 18800, 18750, 18725,\n",
              "       18550,  7100, 18500, 18400, 18250,  1300, 18225, 18200,  1375,\n",
              "       17950, 17800, 17750, 17700,  3975, 17625, 17600, 17500, 17475,\n",
              "       17400, 17200, 17000,  6500, 16950, 16875, 16800, 16750, 16700,\n",
              "       16525, 16500, 11500, 16425, 16400, 16250, 16075, 16050, 11100,\n",
              "        1525, 10800,  7850, 11325, 14500,  5975,  1100,  1150,  3025,\n",
              "        9475,  1325,  2750,  1350,  3725,  5175,  8400,  1450,  1475,\n",
              "       12300,  9500,  5225, 12200, 10750,  1675,  1700,  8875,  5150,\n",
              "        1775,  6075,  1825,  1850,  1875,  1900,  1925,  1950, 11000,\n",
              "       14950, 14900,  7600, 14850, 14800, 13250,  2050,  2150,  2200,\n",
              "        2225,  2250,  2300,  2350, 13750,  6600,  6950,  2425,  2450,\n",
              "       13600, 13500,  9200,  5800, 13475, 13450, 13400, 13350, 13300,\n",
              "       13275, 13225, 13200, 13100, 12250,  7550, 11200,  1050,  6700,\n",
              "        2850,  2875,  2900,  2925,  2975, 12500,  8325,  1250, 12375,\n",
              "        8125,  6425, 14400, 10950,  5100,  6800,  5125, 22550,  6900,\n",
              "        8575,  3050,  3075,  3100,  3125,  3150, 13650, 12800,   800,\n",
              "        3325,  3350,  3375,  3400,  3450,  8700, 11625, 11300,  5300,\n",
              "        6725,  3525, 15800, 14600,  6350, 10900, 10875, 12400, 10775,\n",
              "       10700, 10600, 10500, 10450, 10400, 10375, 10325, 10300, 10250,\n",
              "       10200,  3700,  3750,  3850,  3900,  3950,  5550,  7675,  5700,\n",
              "        5325,  8250,  9750,  9875,  4350,  4450,  4300,  2125, 10850,\n",
              "        8100,  4550,  4650,  4700,  4725, 13025,  2525, 15450,  6625,\n",
              "        7975,  9700,  8200,  4850, 19200, 13975,  8675,  9350,  9975,\n",
              "        9900,  9800, 14750,  4975,  5750, 15075, 22800,  6650, 13800,\n",
              "        8475, 18900,  6300, 14300, 14125,  8975,  8950,  8900,  8850,\n",
              "        8650, 14550,  4150,  9050,  4075, 14650,  8450,  9125,  4325,\n",
              "        5950,  9925,  7375, 11700, 10075,  5250,  5275, 23500,  5425,\n",
              "        5450, 12725, 13850,  5525,  5575,  5625,  5775,  5825,  5850,\n",
              "        5900,  5925,  2550, 15750, 19500, 10525,  2700, 18650, 12600,\n",
              "       13700,  9825,  9175,  7075,  7025, 11400,  8600,  8375,  6025,\n",
              "        6150, 15825,  6225, 15200, 14100,  2650,  6975,  6325,  6375,\n",
              "       19750,  2625,  6550,  6575,  5025,  6850,  6750,  6775,  6475,\n",
              "        6450,  6825,  6875, 15600,  6925,  8525,  3775, 24200, 11075,\n",
              "        7150,  7175,  4225,  7875, 21825,  7250,  7300, 19125,  7325,\n",
              "        7475, 17300,  9575, 12875, 11425, 19725,   900, 17450, 14075,\n",
              "       31300,  7525, 15700,  7575, 11600, 14825,  7650,  7700, 11050,\n",
              "        7900,  7925,  7950, 13375, 25850, 21200, 23275, 10425, 15850,\n",
              "        6125,  5075,  5050, 12900,  9525, 29800, 21650,  8050,  8075,\n",
              "       23525,  8150,  8300,  8350, 27250,  2475,  8550,  8625,  8725,\n",
              "        8750,  8775,  7425,  9100,  9150,  9225,  9325,  9375,  9400,\n",
              "        9425,  9450,  9550, 29000, 12150, 19600, 26400, 15900,  4275,\n",
              "        4250, 13950,  7450,  4125,  4100,  4050,  4025, 11875,  4475,\n",
              "       18300, 31825, 11125, 16100, 29700,  6675, 15350, 10675, 10025,\n",
              "       10100, 10125, 10150,  3425, 14200, 11250, 17825, 11525, 11550,\n",
              "       11650, 11750, 11775, 11800, 11850, 14625,  8825, 27525, 19075,\n",
              "       14700, 18600,  2825,  4925, 21400,  1125, 20675, 12475, 18150,\n",
              "       13675, 12450,  2775,  2725,  2675,  4175, 12950, 12700, 12750,\n",
              "       24175,  7275, 10925, 13900,  9300, 12975, 14350,  3275, 14275,\n",
              "       20600, 23800, 21850,  9850, 14525, 14575, 27300, 17325,  9625,\n",
              "       19950, 22600, 19400, 13050, 20800, 12125, 15125, 12225, 15400,\n",
              "       18325, 15550, 15625, 15650, 15675, 23450, 10575, 19425, 19550,\n",
              "       19650,  2950, 31000, 29550, 28800, 14725, 22200, 24625, 23850,\n",
              "       23475, 22950, 21725, 20200,  2075,  5725, 19975, 19775,   725,\n",
              "       18950, 18825, 17975, 17900, 17725, 17250, 16775, 16450, 16200,\n",
              "       14975,  2375, 11225, 13575, 13425, 13150, 13075, 10225,  3925,\n",
              "        5350,  3550, 10725, 10275,  3675, 12775,  1425, 14675,  4625,\n",
              "        4425,  4675, 12650,  4875, 17350,  9275, 10825, 10175, 15150,\n",
              "        5475, 17375,  5675, 10650, 15025,  3575,  9725,  7050,  6525,\n",
              "       17050, 15875, 10475, 10975, 12625,  7225, 10050, 12100,  4775,\n",
              "       20475,  7725, 16300, 23200, 16725, 21100, 22100, 25500, 20150,\n",
              "       18050, 23700, 19700, 15275, 11175, 11350, 11450, 11475, 19150,\n",
              "       11975, 19450,  9075, 21125, 24800, 24400, 12075, 12325, 12350,\n",
              "        2575, 12025, 14150, 17875, 11025, 26375, 13125, 27400,  8275,\n",
              "       14050, 28250, 15975, 33250,  6275, 22350, 24100,  7775, 23975,\n",
              "       15050, 17525, 15175, 23100, 11275, 13175, 19925, 30600, 31400,\n",
              "       27175,  2325, 24375,  8175, 23325, 18125,  3225,  8225, 17925,\n",
              "       14250, 13775, 17850, 20700, 11375, 15575, 15775, 19275])"
            ]
          },
          "metadata": {},
          "execution_count": 31
        }
      ]
    },
    {
      "cell_type": "code",
      "source": [
        "amount=df['loan_amnt'].mode()[0]\n",
        "df['loan_amnt']=df['loan_amnt'].apply(lambda x: amount if x>30000 or x<1000 else x)\n",
        "df['loan_amnt'].unique()"
      ],
      "metadata": {
        "colab": {
          "base_uri": "https://localhost:8080/"
        },
        "id": "Zz4Mf67makY3",
        "outputId": "eb46cf15-7fc7-4515-bb30-a8bf7ab8b7b0"
      },
      "execution_count": null,
      "outputs": [
        {
          "output_type": "stream",
          "name": "stderr",
          "text": [
            "<ipython-input-32-4dbb930b1aa7>:2: SettingWithCopyWarning: \n",
            "A value is trying to be set on a copy of a slice from a DataFrame.\n",
            "Try using .loc[row_indexer,col_indexer] = value instead\n",
            "\n",
            "See the caveats in the documentation: https://pandas.pydata.org/pandas-docs/stable/user_guide/indexing.html#returning-a-view-versus-a-copy\n",
            "  df['loan_amnt']=df['loan_amnt'].apply(lambda x: amount if x>30000 or x<1000 else x)\n"
          ]
        },
        {
          "output_type": "execute_result",
          "data": {
            "text/plain": [
              "array([10000,  1000,  5500,  2500,  1600,  4500, 30000,  1750,  1500,\n",
              "        4575,  1400,  4000,  2000, 24250,  7800, 20000, 25000, 18000,\n",
              "       12000, 29100, 28000,  9600,  3000,  6100,  4200,  4750,  4800,\n",
              "        3250, 27500, 27050, 27000, 26000, 25600, 25475, 21600, 11900,\n",
              "       25300,  3650,  2400,  3600,  7500,  4950, 21000, 16000, 22000,\n",
              "        7750, 24000, 15000, 15500,  9000,  6000, 23050,  5375,  6250,\n",
              "        5000,  2100, 14000,  6200,  9950,  2600,  8000,  4600,  3500,\n",
              "        7200,  8800,  3175,  2800, 13000,  1800,  3300,  3200,  2275,\n",
              "        5600,  3625,  4375, 24750, 24500, 15250, 24150,  4900, 23750,\n",
              "       23600, 23575,  5400, 23400, 23000,  1200, 22750, 22500, 22400,\n",
              "       22250,  7400, 21700, 21500, 21450, 21250, 20900, 20500, 20400,\n",
              "       20375, 20050,  9250,  6400,  5650, 16600,  7125,  7000,  1275,\n",
              "        1625,  8500,  5200,  3800,  4400,  3825,  5875,  1550,  7350,\n",
              "       10625, 19900, 19800, 19000, 18800, 18750, 18725, 18550,  7100,\n",
              "       18500, 18400, 18250,  1300, 18225, 18200,  1375, 17950, 17800,\n",
              "       17750, 17700,  3975, 17625, 17600, 17500, 17475, 17400, 17200,\n",
              "       17000,  6500, 16950, 16875, 16800, 16750, 16700, 16525, 16500,\n",
              "       11500, 16425, 16400, 16250, 16075, 16050, 11100,  1525, 10800,\n",
              "        7850, 11325, 14500,  5975,  1100,  1150,  3025,  9475,  1325,\n",
              "        2750,  1350,  3725,  5175,  8400,  1450,  1475, 12300,  9500,\n",
              "        5225, 12200, 10750,  1675,  1700,  8875,  5150,  1775,  6075,\n",
              "        1825,  1850,  1875,  1900,  1925,  1950, 11000, 14950, 14900,\n",
              "        7600, 14850, 14800, 13250,  2050,  2150,  2200,  2225,  2250,\n",
              "        2300,  2350, 13750,  6600,  6950,  2425,  2450, 13600, 13500,\n",
              "        9200,  5800, 13475, 13450, 13400, 13350, 13300, 13275, 13225,\n",
              "       13200, 13100, 12250,  7550, 11200,  1050,  6700,  2850,  2875,\n",
              "        2900,  2925,  2975, 12500,  8325,  1250, 12375,  8125,  6425,\n",
              "       14400, 10950,  5100,  6800,  5125, 22550,  6900,  8575,  3050,\n",
              "        3075,  3100,  3125,  3150, 13650, 12800,  3325,  3350,  3375,\n",
              "        3400,  3450,  8700, 11625, 11300,  5300,  6725,  3525, 15800,\n",
              "       14600,  6350, 10900, 10875, 12400, 10775, 10700, 10600, 10500,\n",
              "       10450, 10400, 10375, 10325, 10300, 10250, 10200,  3700,  3750,\n",
              "        3850,  3900,  3950,  5550,  7675,  5700,  5325,  8250,  9750,\n",
              "        9875,  4350,  4450,  4300,  2125, 10850,  8100,  4550,  4650,\n",
              "        4700,  4725, 13025,  2525, 15450,  6625,  7975,  9700,  8200,\n",
              "        4850, 19200, 13975,  8675,  9350,  9975,  9900,  9800, 14750,\n",
              "        4975,  5750, 15075, 22800,  6650, 13800,  8475, 18900,  6300,\n",
              "       14300, 14125,  8975,  8950,  8900,  8850,  8650, 14550,  4150,\n",
              "        9050,  4075, 14650,  8450,  9125,  4325,  5950,  9925,  7375,\n",
              "       11700, 10075,  5250,  5275, 23500,  5425,  5450, 12725, 13850,\n",
              "        5525,  5575,  5625,  5775,  5825,  5850,  5900,  5925,  2550,\n",
              "       15750, 19500, 10525,  2700, 18650, 12600, 13700,  9825,  9175,\n",
              "        7075,  7025, 11400,  8600,  8375,  6025,  6150, 15825,  6225,\n",
              "       15200, 14100,  2650,  6975,  6325,  6375, 19750,  2625,  6550,\n",
              "        6575,  5025,  6850,  6750,  6775,  6475,  6450,  6825,  6875,\n",
              "       15600,  6925,  8525,  3775, 24200, 11075,  7150,  7175,  4225,\n",
              "        7875, 21825,  7250,  7300, 19125,  7325,  7475, 17300,  9575,\n",
              "       12875, 11425, 19725, 17450, 14075,  7525, 15700,  7575, 11600,\n",
              "       14825,  7650,  7700, 11050,  7900,  7925,  7950, 13375, 25850,\n",
              "       21200, 23275, 10425, 15850,  6125,  5075,  5050, 12900,  9525,\n",
              "       29800, 21650,  8050,  8075, 23525,  8150,  8300,  8350, 27250,\n",
              "        2475,  8550,  8625,  8725,  8750,  8775,  7425,  9100,  9150,\n",
              "        9225,  9325,  9375,  9400,  9425,  9450,  9550, 29000, 12150,\n",
              "       19600, 26400, 15900,  4275,  4250, 13950,  7450,  4125,  4100,\n",
              "        4050,  4025, 11875,  4475, 18300, 11125, 16100, 29700,  6675,\n",
              "       15350, 10675, 10025, 10100, 10125, 10150,  3425, 14200, 11250,\n",
              "       17825, 11525, 11550, 11650, 11750, 11775, 11800, 11850, 14625,\n",
              "        8825, 27525, 19075, 14700, 18600,  2825,  4925, 21400,  1125,\n",
              "       20675, 12475, 18150, 13675, 12450,  2775,  2725,  2675,  4175,\n",
              "       12950, 12700, 12750, 24175,  7275, 10925, 13900,  9300, 12975,\n",
              "       14350,  3275, 14275, 20600, 23800, 21850,  9850, 14525, 14575,\n",
              "       27300, 17325,  9625, 19950, 22600, 19400, 13050, 20800, 12125,\n",
              "       15125, 12225, 15400, 18325, 15550, 15625, 15650, 15675, 23450,\n",
              "       10575, 19425, 19550, 19650,  2950, 29550, 28800, 14725, 22200,\n",
              "       24625, 23850, 23475, 22950, 21725, 20200,  2075,  5725, 19975,\n",
              "       19775, 18950, 18825, 17975, 17900, 17725, 17250, 16775, 16450,\n",
              "       16200, 14975,  2375, 11225, 13575, 13425, 13150, 13075, 10225,\n",
              "        3925,  5350,  3550, 10725, 10275,  3675, 12775,  1425, 14675,\n",
              "        4625,  4425,  4675, 12650,  4875, 17350,  9275, 10825, 10175,\n",
              "       15150,  5475, 17375,  5675, 10650, 15025,  3575,  9725,  7050,\n",
              "        6525, 17050, 15875, 10475, 10975, 12625,  7225, 10050, 12100,\n",
              "        4775, 20475,  7725, 16300, 23200, 16725, 21100, 22100, 25500,\n",
              "       20150, 18050, 23700, 19700, 15275, 11175, 11350, 11450, 11475,\n",
              "       19150, 11975, 19450,  9075, 21125, 24800, 24400, 12075, 12325,\n",
              "       12350,  2575, 12025, 14150, 17875, 11025, 26375, 13125, 27400,\n",
              "        8275, 14050, 28250, 15975,  6275, 22350, 24100,  7775, 23975,\n",
              "       15050, 17525, 15175, 23100, 11275, 13175, 19925, 27175,  2325,\n",
              "       24375,  8175, 23325, 18125,  3225,  8225, 17925, 14250, 13775,\n",
              "       17850, 20700, 11375, 15575, 15775, 19275])"
            ]
          },
          "metadata": {},
          "execution_count": 32
        }
      ]
    },
    {
      "cell_type": "code",
      "source": [
        "df['loan_int_rate'].value_counts()"
      ],
      "metadata": {
        "colab": {
          "base_uri": "https://localhost:8080/"
        },
        "id": "HIXeG3NkVE4c",
        "outputId": "3b8a8a6c-3c12-44e3-c051-ba24a065e4e9"
      },
      "execution_count": null,
      "outputs": [
        {
          "output_type": "execute_result",
          "data": {
            "text/plain": [
              "loan_int_rate\n",
              "10.99    733\n",
              "7.51     726\n",
              "7.49     625\n",
              "7.88     624\n",
              "7.90     553\n",
              "        ... \n",
              "18.17      1\n",
              "22.06      1\n",
              "20.20      1\n",
              "17.44      1\n",
              "20.53      1\n",
              "Name: count, Length: 348, dtype: int64"
            ]
          },
          "metadata": {},
          "execution_count": 33
        }
      ]
    },
    {
      "cell_type": "code",
      "source": [
        "df['loan_int_rate'].unique()"
      ],
      "metadata": {
        "colab": {
          "base_uri": "https://localhost:8080/"
        },
        "id": "ePAnRNhTcD6f",
        "outputId": "90055b0b-3b78-48eb-82fa-afcb04f98e2d"
      },
      "execution_count": null,
      "outputs": [
        {
          "output_type": "execute_result",
          "data": {
            "text/plain": [
              "array([16.02, 11.14, 12.87, 15.23, 14.27,  7.14, 12.42, 11.11,  8.9 ,\n",
              "       14.74, 10.37,  8.63,  7.9 , 18.39, 10.65, 20.25, 18.25, 10.99,\n",
              "        7.49, 16.77, 17.58,  7.29, 14.54, 12.68, 17.74,  9.32,  9.99,\n",
              "       12.84, 11.12,  6.62, 14.17, 13.85, 13.49,  7.51, 16.89, 17.99,\n",
              "       12.69,  7.88, 19.41, 10.38, 15.33, 16.45, 18.62, 15.96, 11.48,\n",
              "        5.99, 11.58, 15.7 , 15.99, 14.84, 14.42,  6.99, 13.61,  9.91,\n",
              "       13.48, 12.98, 13.57, 15.68, 13.06, 15.62, 11.71,  8.88, 12.18,\n",
              "       13.99, 12.73, 11.49, 19.91, 11.83, 14.59,  9.64, 16.35, 18.67,\n",
              "       10.08, 10.36, 12.23, 16.07, 14.22, 14.79, 13.22, 11.86, 13.43,\n",
              "       15.28, 17.93,  9.25, 10.62, 18.43, 11.36, 15.65, 13.04, 17.04,\n",
              "       14.83, 14.65, 16.82, 10.25, 14.96, 11.99,  8.49,  6.17, 16.32,\n",
              "       14.35, 15.21, 14.09, 17.49, 13.92, 16.49,  5.79, 13.11,  6.54,\n",
              "       12.53, 15.95, 10.74, 15.27, 14.72, 13.35,  7.68, 14.46, 13.47,\n",
              "        6.03, 12.92, 18.64, 16.7 , 18.3 ,  9.63, 14.7 , 15.37, 14.26,\n",
              "        8.  , 11.26, 19.04, 13.98, 15.58, 15.31,  9.33, 11.91,  8.38,\n",
              "       10.59, 16.  , 11.54, 12.61, 17.27, 15.05, 10.75,  6.39, 18.09,\n",
              "       19.74,  6.91, 14.93, 17.14, 11.03,  8.94, 11.46,  7.66, 17.56,\n",
              "       10.39, 16.29, 17.8 , 19.69, 15.83, 20.03, 20.16, 13.79, 11.89,\n",
              "       14.5 , 11.34,  9.62,  9.96, 18.99, 14.11, 17.19,  7.4 , 17.51,\n",
              "       14.61, 21.21, 14.91, 17.26, 10.71, 10.  , 16.95, 11.97, 12.99,\n",
              "       13.16,  9.76, 11.22, 16.69, 12.21,  7.74, 11.78, 11.66, 19.79,\n",
              "        9.88, 13.87, 17.39, 12.29, 10.83, 15.2 , 14.82, 14.88, 13.36,\n",
              "        5.42, 13.23,  9.45, 10.96, 13.72, 12.36, 11.41, 14.3 , 10.91,\n",
              "       16.63,  6.92, 10.95,  8.7 , 12.67, 12.41, 20.11, 14.18,  6.76,\n",
              "       12.8 , 13.24, 12.09, 17.15, 19.47,  7.91, 10.46,  7.37, 11.28,\n",
              "        8.59, 19.03, 15.57,  8.32, 10.14, 19.29, 11.63, 12.72, 13.8 ,\n",
              "        7.12, 13.3 , 16.59, 21.27,  8.07,  9.67, 11.72, 12.22, 13.75,\n",
              "        9.38, 10.2 , 16.4 , 10.33, 12.54, 21.74,  7.43,  9.07,  6.  ,\n",
              "        9.7 , 10.01,  7.05, 10.28, 20.3 , 13.67,  7.42, 19.42, 12.17,\n",
              "        9.83, 18.79, 14.38,  7.75, 14.75, 10.51, 13.12, 17.88,  9.2 ,\n",
              "       11.59, 17.43, 13.93, 21.36, 15.76, 18.21, 13.55, 15.13,  9.01,\n",
              "       16.08, 16.11, 14.12, 12.86, 19.39, 13.17, 15.45, 22.11, 12.62,\n",
              "       19.13, 12.49, 16.2 , 18.84, 16.33, 19.82, 20.89, 10.78, 15.88,\n",
              "       19.16, 20.62, 20.2 ,  9.51, 14.67, 12.12, 12.04, 15.07, 17.06,\n",
              "       13.62, 20.48, 18.53, 17.9 , 11.09, 18.78, 15.01, 18.07, 17.03,\n",
              "       21.14, 17.46, 20.99, 21.64, 18.36, 20.17, 18.17, 22.06, 17.54,\n",
              "       17.44, 18.49, 20.86, 20.52, 15.25, 18.72, 20.9 , 16.96, 15.38,\n",
              "       13.84, 17.34, 14.62, 14.25, 14.07, 10.64, 22.48, 19.66, 23.22,\n",
              "       20.4 , 16.71, 18.54, 20.69, 16.15, 20.53])"
            ]
          },
          "metadata": {},
          "execution_count": 34
        }
      ]
    },
    {
      "cell_type": "code",
      "source": [
        "rate=df['loan_int_rate'].mean()\n",
        "df['loan_int_rate']=df['loan_int_rate'].apply(lambda x: rate if x>20.00 else x)\n",
        "df['loan_int_rate'].unique()"
      ],
      "metadata": {
        "colab": {
          "base_uri": "https://localhost:8080/"
        },
        "id": "ZCPWwu21j1RU",
        "outputId": "746b7d61-dfcc-4fe2-f2e4-8b00bc5d04bb"
      },
      "execution_count": null,
      "outputs": [
        {
          "output_type": "stream",
          "name": "stderr",
          "text": [
            "<ipython-input-35-87f906b97b47>:2: SettingWithCopyWarning: \n",
            "A value is trying to be set on a copy of a slice from a DataFrame.\n",
            "Try using .loc[row_indexer,col_indexer] = value instead\n",
            "\n",
            "See the caveats in the documentation: https://pandas.pydata.org/pandas-docs/stable/user_guide/indexing.html#returning-a-view-versus-a-copy\n",
            "  df['loan_int_rate']=df['loan_int_rate'].apply(lambda x: rate if x>20.00 else x)\n"
          ]
        },
        {
          "output_type": "execute_result",
          "data": {
            "text/plain": [
              "array([16.02      , 11.14      , 12.87      , 15.23      , 14.27      ,\n",
              "        7.14      , 12.42      , 11.11      ,  8.9       , 14.74      ,\n",
              "       10.37      ,  8.63      ,  7.9       , 18.39      , 10.65      ,\n",
              "       11.03986661, 18.25      , 10.99      ,  7.49      , 16.77      ,\n",
              "       17.58      ,  7.29      , 14.54      , 12.68      , 17.74      ,\n",
              "        9.32      ,  9.99      , 12.84      , 11.12      ,  6.62      ,\n",
              "       14.17      , 13.85      , 13.49      ,  7.51      , 16.89      ,\n",
              "       17.99      , 12.69      ,  7.88      , 19.41      , 10.38      ,\n",
              "       15.33      , 16.45      , 18.62      , 15.96      , 11.48      ,\n",
              "        5.99      , 11.58      , 15.7       , 15.99      , 14.84      ,\n",
              "       14.42      ,  6.99      , 13.61      ,  9.91      , 13.48      ,\n",
              "       12.98      , 13.57      , 15.68      , 13.06      , 15.62      ,\n",
              "       11.71      ,  8.88      , 12.18      , 13.99      , 12.73      ,\n",
              "       11.49      , 19.91      , 11.83      , 14.59      ,  9.64      ,\n",
              "       16.35      , 18.67      , 10.08      , 10.36      , 12.23      ,\n",
              "       16.07      , 14.22      , 14.79      , 13.22      , 11.86      ,\n",
              "       13.43      , 15.28      , 17.93      ,  9.25      , 10.62      ,\n",
              "       18.43      , 11.36      , 15.65      , 13.04      , 17.04      ,\n",
              "       14.83      , 14.65      , 16.82      , 10.25      , 14.96      ,\n",
              "       11.99      ,  8.49      ,  6.17      , 16.32      , 14.35      ,\n",
              "       15.21      , 14.09      , 17.49      , 13.92      , 16.49      ,\n",
              "        5.79      , 13.11      ,  6.54      , 12.53      , 15.95      ,\n",
              "       10.74      , 15.27      , 14.72      , 13.35      ,  7.68      ,\n",
              "       14.46      , 13.47      ,  6.03      , 12.92      , 18.64      ,\n",
              "       16.7       , 18.3       ,  9.63      , 14.7       , 15.37      ,\n",
              "       14.26      ,  8.        , 11.26      , 19.04      , 13.98      ,\n",
              "       15.58      , 15.31      ,  9.33      , 11.91      ,  8.38      ,\n",
              "       10.59      , 16.        , 11.54      , 12.61      , 17.27      ,\n",
              "       15.05      , 10.75      ,  6.39      , 18.09      , 19.74      ,\n",
              "        6.91      , 14.93      , 17.14      , 11.03      ,  8.94      ,\n",
              "       11.46      ,  7.66      , 17.56      , 10.39      , 16.29      ,\n",
              "       17.8       , 19.69      , 15.83      , 13.79      , 11.89      ,\n",
              "       14.5       , 11.34      ,  9.62      ,  9.96      , 18.99      ,\n",
              "       14.11      , 17.19      ,  7.4       , 17.51      , 14.61      ,\n",
              "       14.91      , 17.26      , 10.71      , 10.        , 16.95      ,\n",
              "       11.97      , 12.99      , 13.16      ,  9.76      , 11.22      ,\n",
              "       16.69      , 12.21      ,  7.74      , 11.78      , 11.66      ,\n",
              "       19.79      ,  9.88      , 13.87      , 17.39      , 12.29      ,\n",
              "       10.83      , 15.2       , 14.82      , 14.88      , 13.36      ,\n",
              "        5.42      , 13.23      ,  9.45      , 10.96      , 13.72      ,\n",
              "       12.36      , 11.41      , 14.3       , 10.91      , 16.63      ,\n",
              "        6.92      , 10.95      ,  8.7       , 12.67      , 12.41      ,\n",
              "       14.18      ,  6.76      , 12.8       , 13.24      , 12.09      ,\n",
              "       17.15      , 19.47      ,  7.91      , 10.46      ,  7.37      ,\n",
              "       11.28      ,  8.59      , 19.03      , 15.57      ,  8.32      ,\n",
              "       10.14      , 19.29      , 11.63      , 12.72      , 13.8       ,\n",
              "        7.12      , 13.3       , 16.59      ,  8.07      ,  9.67      ,\n",
              "       11.72      , 12.22      , 13.75      ,  9.38      , 10.2       ,\n",
              "       16.4       , 10.33      , 12.54      ,  7.43      ,  9.07      ,\n",
              "        6.        ,  9.7       , 10.01      ,  7.05      , 10.28      ,\n",
              "       13.67      ,  7.42      , 19.42      , 12.17      ,  9.83      ,\n",
              "       18.79      , 14.38      ,  7.75      , 14.75      , 10.51      ,\n",
              "       13.12      , 17.88      ,  9.2       , 11.59      , 17.43      ,\n",
              "       13.93      , 15.76      , 18.21      , 13.55      , 15.13      ,\n",
              "        9.01      , 16.08      , 16.11      , 14.12      , 12.86      ,\n",
              "       19.39      , 13.17      , 15.45      , 12.62      , 19.13      ,\n",
              "       12.49      , 16.2       , 18.84      , 16.33      , 19.82      ,\n",
              "       10.78      , 15.88      , 19.16      ,  9.51      , 14.67      ,\n",
              "       12.12      , 12.04      , 15.07      , 17.06      , 13.62      ,\n",
              "       18.53      , 17.9       , 11.09      , 18.78      , 15.01      ,\n",
              "       18.07      , 17.03      , 17.46      , 18.36      , 18.17      ,\n",
              "       17.54      , 17.44      , 18.49      , 15.25      , 18.72      ,\n",
              "       16.96      , 15.38      , 13.84      , 17.34      , 14.62      ,\n",
              "       14.25      , 14.07      , 10.64      , 19.66      , 16.71      ,\n",
              "       18.54      , 16.15      ])"
            ]
          },
          "metadata": {},
          "execution_count": 35
        }
      ]
    },
    {
      "cell_type": "code",
      "source": [
        "df['loan_int_rate']=df['loan_int_rate'].round(2)"
      ],
      "metadata": {
        "colab": {
          "base_uri": "https://localhost:8080/"
        },
        "id": "nfEqLbnelh71",
        "outputId": "188748d0-a5b4-43ff-afa1-2813173be713"
      },
      "execution_count": null,
      "outputs": [
        {
          "output_type": "stream",
          "name": "stderr",
          "text": [
            "<ipython-input-36-59eb870c1eb1>:1: SettingWithCopyWarning: \n",
            "A value is trying to be set on a copy of a slice from a DataFrame.\n",
            "Try using .loc[row_indexer,col_indexer] = value instead\n",
            "\n",
            "See the caveats in the documentation: https://pandas.pydata.org/pandas-docs/stable/user_guide/indexing.html#returning-a-view-versus-a-copy\n",
            "  df['loan_int_rate']=df['loan_int_rate'].round(2)\n"
          ]
        }
      ]
    },
    {
      "cell_type": "code",
      "source": [
        "df['loan_percent_income'].value_counts()\n"
      ],
      "metadata": {
        "colab": {
          "base_uri": "https://localhost:8080/"
        },
        "id": "p120BUD9VEmL",
        "outputId": "d52d1c24-862b-477e-9ba0-9e9f2a3a1897"
      },
      "execution_count": null,
      "outputs": [
        {
          "output_type": "execute_result",
          "data": {
            "text/plain": [
              "loan_percent_income\n",
              "0.10    1355\n",
              "0.13    1327\n",
              "0.08    1277\n",
              "0.11    1226\n",
              "0.07    1224\n",
              "        ... \n",
              "0.62       1\n",
              "0.76       1\n",
              "0.83       1\n",
              "0.72       1\n",
              "0.78       1\n",
              "Name: count, Length: 77, dtype: int64"
            ]
          },
          "metadata": {},
          "execution_count": 37
        }
      ]
    },
    {
      "cell_type": "code",
      "source": [
        "df['loan_percent_income'].unique()"
      ],
      "metadata": {
        "colab": {
          "base_uri": "https://localhost:8080/"
        },
        "id": "1mbI6GQGm_iR",
        "outputId": "0df176bd-016d-4979-b7f5-d242c34fee7e"
      },
      "execution_count": null,
      "outputs": [
        {
          "output_type": "execute_result",
          "data": {
            "text/plain": [
              "array([0.59, 0.1 , 0.57, 0.53, 0.55, 0.25, 0.45, 0.44, 0.42, 0.16, 0.41,\n",
              "       0.37, 0.32, 0.3 , 0.06, 0.29, 0.31, 0.22, 0.52, 0.14, 0.49, 0.13,\n",
              "       0.5 , 0.35, 0.17, 0.27, 0.33, 0.08, 0.03, 0.21, 0.63, 0.47, 0.4 ,\n",
              "       0.07, 0.38, 0.34, 0.04, 0.23, 0.11, 0.43, 0.51, 0.02, 0.28, 0.19,\n",
              "       0.39, 0.09, 0.05, 0.15, 0.18, 0.6 , 0.01, 0.48, 0.12, 0.54, 0.56,\n",
              "       0.46, 0.36, 0.24, 0.26, 0.2 , 0.72, 0.64, 0.69, 0.77, 0.61, 0.83,\n",
              "       0.65, 0.67, 0.58, 0.71, 0.68, 0.7 , 0.66, 0.  , 0.76, 0.62, 0.78])"
            ]
          },
          "metadata": {},
          "execution_count": 38
        }
      ]
    },
    {
      "cell_type": "code",
      "source": [
        "percent=df['loan_percent_income'].mean()\n",
        "df['loan_percent_income']=df['loan_percent_income'].apply(lambda x:percent if x>0.50 or x<0.20 else x)\n"
      ],
      "metadata": {
        "colab": {
          "base_uri": "https://localhost:8080/"
        },
        "id": "mTe4FpOnnbFV",
        "outputId": "bd91b040-b8cb-47b4-e4ec-29fd88a01e2c"
      },
      "execution_count": null,
      "outputs": [
        {
          "output_type": "stream",
          "name": "stderr",
          "text": [
            "<ipython-input-39-6d043afdabd0>:2: SettingWithCopyWarning: \n",
            "A value is trying to be set on a copy of a slice from a DataFrame.\n",
            "Try using .loc[row_indexer,col_indexer] = value instead\n",
            "\n",
            "See the caveats in the documentation: https://pandas.pydata.org/pandas-docs/stable/user_guide/indexing.html#returning-a-view-versus-a-copy\n",
            "  df['loan_percent_income']=df['loan_percent_income'].apply(lambda x:percent if x>0.50 or x<0.20 else x)\n"
          ]
        }
      ]
    },
    {
      "cell_type": "code",
      "source": [
        "df['loan_percent_income']=df['loan_percent_income'].round(2)\n",
        "df['loan_percent_income'].unique()"
      ],
      "metadata": {
        "colab": {
          "base_uri": "https://localhost:8080/"
        },
        "id": "9RtJUU8OodVm",
        "outputId": "3232e5f2-c55e-4e5f-c479-f25d837eb4b6"
      },
      "execution_count": null,
      "outputs": [
        {
          "output_type": "stream",
          "name": "stderr",
          "text": [
            "<ipython-input-40-b859eb88c1ba>:1: SettingWithCopyWarning: \n",
            "A value is trying to be set on a copy of a slice from a DataFrame.\n",
            "Try using .loc[row_indexer,col_indexer] = value instead\n",
            "\n",
            "See the caveats in the documentation: https://pandas.pydata.org/pandas-docs/stable/user_guide/indexing.html#returning-a-view-versus-a-copy\n",
            "  df['loan_percent_income']=df['loan_percent_income'].round(2)\n"
          ]
        },
        {
          "output_type": "execute_result",
          "data": {
            "text/plain": [
              "array([0.17, 0.25, 0.45, 0.44, 0.42, 0.41, 0.37, 0.32, 0.3 , 0.29, 0.31,\n",
              "       0.22, 0.49, 0.5 , 0.35, 0.27, 0.33, 0.21, 0.47, 0.4 , 0.38, 0.34,\n",
              "       0.23, 0.43, 0.28, 0.39, 0.48, 0.46, 0.36, 0.24, 0.26, 0.2 ])"
            ]
          },
          "metadata": {},
          "execution_count": 40
        }
      ]
    },
    {
      "cell_type": "code",
      "source": [
        "df['cb_person_cred_hist_length'].value_counts()"
      ],
      "metadata": {
        "colab": {
          "base_uri": "https://localhost:8080/"
        },
        "id": "9MRHojEwVEbu",
        "outputId": "133c3697-95c5-45d8-97b1-3e1101733889"
      },
      "execution_count": null,
      "outputs": [
        {
          "output_type": "execute_result",
          "data": {
            "text/plain": [
              "cb_person_cred_hist_length\n",
              "3     5233\n",
              "4     5228\n",
              "2     5224\n",
              "7     1673\n",
              "8     1665\n",
              "9     1664\n",
              "5     1660\n",
              "6     1643\n",
              "10    1635\n",
              "14     436\n",
              "12     426\n",
              "11     410\n",
              "13     387\n",
              "16     387\n",
              "15     370\n",
              "17     347\n",
              "20      29\n",
              "24      27\n",
              "28      22\n",
              "22      21\n",
              "23      19\n",
              "30      19\n",
              "19      18\n",
              "27      18\n",
              "21      18\n",
              "25      17\n",
              "26      16\n",
              "18      15\n",
              "29      11\n",
              "Name: count, dtype: int64"
            ]
          },
          "metadata": {},
          "execution_count": 41
        }
      ]
    },
    {
      "cell_type": "code",
      "source": [
        "hist=df['cb_person_cred_hist_length'].mode()[0]\n",
        "df['cb_person_cred_hist_length']=df['cb_person_cred_hist_length'].apply(lambda x: hist if x>20 else x)\n",
        "df['cb_person_cred_hist_length'].unique()"
      ],
      "metadata": {
        "colab": {
          "base_uri": "https://localhost:8080/"
        },
        "id": "FGbGCXdFVEQg",
        "outputId": "e58c31f9-cd4f-4810-96a2-847cabca1165"
      },
      "execution_count": null,
      "outputs": [
        {
          "output_type": "stream",
          "name": "stderr",
          "text": [
            "<ipython-input-42-d97adfbba550>:2: SettingWithCopyWarning: \n",
            "A value is trying to be set on a copy of a slice from a DataFrame.\n",
            "Try using .loc[row_indexer,col_indexer] = value instead\n",
            "\n",
            "See the caveats in the documentation: https://pandas.pydata.org/pandas-docs/stable/user_guide/indexing.html#returning-a-view-versus-a-copy\n",
            "  df['cb_person_cred_hist_length']=df['cb_person_cred_hist_length'].apply(lambda x: hist if x>20 else x)\n"
          ]
        },
        {
          "output_type": "execute_result",
          "data": {
            "text/plain": [
              "array([ 3,  2,  4,  8,  7,  6,  9, 10,  5, 11, 15, 17, 12, 13, 14, 16, 19,\n",
              "       20, 18])"
            ]
          },
          "metadata": {},
          "execution_count": 42
        }
      ]
    },
    {
      "cell_type": "code",
      "source": [
        "df.isna().sum()"
      ],
      "metadata": {
        "colab": {
          "base_uri": "https://localhost:8080/"
        },
        "id": "iG1vLRk3VEF4",
        "outputId": "96595ffb-7138-415a-d9a3-0df6b78c83ab"
      },
      "execution_count": null,
      "outputs": [
        {
          "output_type": "execute_result",
          "data": {
            "text/plain": [
              "person_age                    0\n",
              "person_income                 0\n",
              "person_home_ownership         0\n",
              "person_emp_length             0\n",
              "loan_intent                   0\n",
              "loan_grade                    0\n",
              "loan_amnt                     0\n",
              "loan_int_rate                 0\n",
              "loan_status                   0\n",
              "loan_percent_income           0\n",
              "cb_person_default_on_file     0\n",
              "cb_person_cred_hist_length    0\n",
              "dtype: int64"
            ]
          },
          "metadata": {},
          "execution_count": 43
        }
      ]
    },
    {
      "cell_type": "code",
      "source": [
        "df.info()"
      ],
      "metadata": {
        "colab": {
          "base_uri": "https://localhost:8080/"
        },
        "id": "dDVBhQeZ3P5Z",
        "outputId": "cabab786-2a83-4505-8088-1178c81be910"
      },
      "execution_count": null,
      "outputs": [
        {
          "output_type": "stream",
          "name": "stdout",
          "text": [
            "<class 'pandas.core.frame.DataFrame'>\n",
            "Index: 28638 entries, 0 to 32580\n",
            "Data columns (total 12 columns):\n",
            " #   Column                      Non-Null Count  Dtype  \n",
            "---  ------                      --------------  -----  \n",
            " 0   person_age                  28638 non-null  int64  \n",
            " 1   person_income               28638 non-null  int64  \n",
            " 2   person_home_ownership       28638 non-null  object \n",
            " 3   person_emp_length           28638 non-null  float64\n",
            " 4   loan_intent                 28638 non-null  object \n",
            " 5   loan_grade                  28638 non-null  object \n",
            " 6   loan_amnt                   28638 non-null  int64  \n",
            " 7   loan_int_rate               28638 non-null  float64\n",
            " 8   loan_status                 28638 non-null  int64  \n",
            " 9   loan_percent_income         28638 non-null  float64\n",
            " 10  cb_person_default_on_file   28638 non-null  object \n",
            " 11  cb_person_cred_hist_length  28638 non-null  int64  \n",
            "dtypes: float64(3), int64(5), object(4)\n",
            "memory usage: 2.8+ MB\n"
          ]
        }
      ]
    },
    {
      "cell_type": "code",
      "source": [
        "df.dtypes"
      ],
      "metadata": {
        "colab": {
          "base_uri": "https://localhost:8080/"
        },
        "id": "f_Ra02t0VD6M",
        "outputId": "640dfdcc-aaf6-4a93-cd8f-3d017108f346"
      },
      "execution_count": null,
      "outputs": [
        {
          "output_type": "execute_result",
          "data": {
            "text/plain": [
              "person_age                      int64\n",
              "person_income                   int64\n",
              "person_home_ownership          object\n",
              "person_emp_length             float64\n",
              "loan_intent                    object\n",
              "loan_grade                     object\n",
              "loan_amnt                       int64\n",
              "loan_int_rate                 float64\n",
              "loan_status                     int64\n",
              "loan_percent_income           float64\n",
              "cb_person_default_on_file      object\n",
              "cb_person_cred_hist_length      int64\n",
              "dtype: object"
            ]
          },
          "metadata": {},
          "execution_count": 44
        }
      ]
    },
    {
      "cell_type": "code",
      "source": [
        "label=LabelEncoder()\n",
        "# df['person_home_ownership'] = label.fit_transform(df['person_home_ownership'])\n",
        "# df['loan_intent'] = label.fit_transform(df['loan_intent'])\n",
        "# df['cb_person_default_on_file'] = label.fit_transform(df['cb_person_default_on_file'])\n",
        "df['loan_grade'] = label.fit_transform(df['loan_grade'])\n",
        "mapping = dict(zip(label.classes_, label.transform(label.classes_)))\n",
        "+`*for labels, value in mapping.items():\n",
        "    print(f\"{labels}: {value}\")"
      ],
      "metadata": {
        "colab": {
          "base_uri": "https://localhost:8080/"
        },
        "collapsed": true,
        "id": "4R_UXrBXVDMl",
        "outputId": "70c407ad-7350-49c4-bb07-7cdc97a1b65d"
      },
      "execution_count": null,
      "outputs": [
        {
          "output_type": "stream",
          "name": "stdout",
          "text": [
            "\n",
            "Label Mapping:\n",
            "A: 0\n",
            "B: 1\n",
            "C: 2\n",
            "D: 3\n",
            "E: 4\n",
            "F: 5\n",
            "G: 6\n"
          ]
        },
        {
          "output_type": "stream",
          "name": "stderr",
          "text": [
            "<ipython-input-46-f0a743f3e22a>:5: SettingWithCopyWarning: \n",
            "A value is trying to be set on a copy of a slice from a DataFrame.\n",
            "Try using .loc[row_indexer,col_indexer] = value instead\n",
            "\n",
            "See the caveats in the documentation: https://pandas.pydata.org/pandas-docs/stable/user_guide/indexing.html#returning-a-view-versus-a-copy\n",
            "  df['loan_grade'] = label.fit_transform(df['loan_grade'])\n"
          ]
        }
      ]
    },
    {
      "cell_type": "code",
      "source": [
        "df['person_home_ownership']=label.fit_transform(df['person_home_ownership'])\n",
        "label_mapp = dict(zip(label.classes_, label.transform(label.classes_)))\n",
        "print(\"\\nLabel Mapping:\")\n",
        "for labels, value in label_mapp.items():\n",
        "    print(f\"{labels}: {value}\")"
      ],
      "metadata": {
        "id": "-Rs7hL1ZvzYp",
        "colab": {
          "base_uri": "https://localhost:8080/"
        },
        "outputId": "a2ff696e-411e-417b-8656-f906a73d6e31"
      },
      "execution_count": null,
      "outputs": [
        {
          "output_type": "stream",
          "name": "stdout",
          "text": [
            "\n",
            "Label Mapping:\n",
            "MORTGAGE: 0\n",
            "OTHER: 1\n",
            "OWN: 2\n",
            "RENT: 3\n"
          ]
        },
        {
          "output_type": "stream",
          "name": "stderr",
          "text": [
            "<ipython-input-47-32a045510906>:1: SettingWithCopyWarning: \n",
            "A value is trying to be set on a copy of a slice from a DataFrame.\n",
            "Try using .loc[row_indexer,col_indexer] = value instead\n",
            "\n",
            "See the caveats in the documentation: https://pandas.pydata.org/pandas-docs/stable/user_guide/indexing.html#returning-a-view-versus-a-copy\n",
            "  df['person_home_ownership']=label.fit_transform(df['person_home_ownership'])\n"
          ]
        }
      ]
    },
    {
      "cell_type": "code",
      "source": [
        "df['loan_intent'] = label.fit_transform(df['loan_intent'])\n",
        "label_mapping = dict(zip(label.classes_, label.transform(label.classes_)))\n",
        "print(\"\\nLabel Mapping:\")\n",
        "for labels, value in label_mapping.items():\n",
        "    print(f\"{labels}: {value}\")"
      ],
      "metadata": {
        "colab": {
          "base_uri": "https://localhost:8080/"
        },
        "id": "It7TeOvYx-tp",
        "outputId": "8024b57f-b789-4668-c9c0-48ddffd18382"
      },
      "execution_count": null,
      "outputs": [
        {
          "output_type": "stream",
          "name": "stdout",
          "text": [
            "\n",
            "Label Mapping:\n",
            "DEBTCONSOLIDATION: 0\n",
            "EDUCATION: 1\n",
            "HOMEIMPROVEMENT: 2\n",
            "MEDICAL: 3\n",
            "PERSONAL: 4\n",
            "VENTURE: 5\n"
          ]
        },
        {
          "output_type": "stream",
          "name": "stderr",
          "text": [
            "<ipython-input-48-1bd3430eb835>:1: SettingWithCopyWarning: \n",
            "A value is trying to be set on a copy of a slice from a DataFrame.\n",
            "Try using .loc[row_indexer,col_indexer] = value instead\n",
            "\n",
            "See the caveats in the documentation: https://pandas.pydata.org/pandas-docs/stable/user_guide/indexing.html#returning-a-view-versus-a-copy\n",
            "  df['loan_intent'] = label.fit_transform(df['loan_intent'])\n"
          ]
        }
      ]
    },
    {
      "cell_type": "code",
      "source": [
        "df['cb_person_default_on_file'] = label.fit_transform(df['cb_person_default_on_file'])\n",
        "labelling = dict(zip(label.classes_, label.transform(label.classes_)))\n",
        "print(\"\\nLabel Mapping:\")\n",
        "for labels, value in labelling.items():\n",
        "    print(f\"{labels}: {value}\")"
      ],
      "metadata": {
        "colab": {
          "base_uri": "https://localhost:8080/"
        },
        "id": "fOsc1bZIybe3",
        "outputId": "2ae6f7e0-9f2c-45bd-e1ec-5272c219ae62"
      },
      "execution_count": null,
      "outputs": [
        {
          "output_type": "stream",
          "name": "stdout",
          "text": [
            "\n",
            "Label Mapping:\n",
            "N: 0\n",
            "Y: 1\n"
          ]
        },
        {
          "output_type": "stream",
          "name": "stderr",
          "text": [
            "<ipython-input-49-46a36305eb6f>:1: SettingWithCopyWarning: \n",
            "A value is trying to be set on a copy of a slice from a DataFrame.\n",
            "Try using .loc[row_indexer,col_indexer] = value instead\n",
            "\n",
            "See the caveats in the documentation: https://pandas.pydata.org/pandas-docs/stable/user_guide/indexing.html#returning-a-view-versus-a-copy\n",
            "  df['cb_person_default_on_file'] = label.fit_transform(df['cb_person_default_on_file'])\n"
          ]
        }
      ]
    },
    {
      "cell_type": "code",
      "source": [
        "plt.figure(figsize=(15,10))\n",
        "# sns.heatmap(df.corr(),annot=True)\n",
        "sns.heatmap(df.corr(numeric_only=True),annot=True)\n",
        "plt.title(\"Heat Map\",size=10)\n",
        "plt.yticks(rotation=0)\n",
        "plt.show()"
      ],
      "metadata": {
        "colab": {
          "base_uri": "https://localhost:8080/",
          "height": 851
        },
        "id": "ElwWie4_z0kJ",
        "outputId": "6abbc201-cd51-44b0-ed1f-c297051b7a9e"
      },
      "execution_count": null,
      "outputs": [
        {
          "output_type": "display_data",
          "data": {
            "text/plain": [
              "<Figure size 1500x1000 with 2 Axes>"
            ],
            "image/png": "[encoded data removed]"
          },
          "metadata": {}
        }
      ]
    },
    {
      "cell_type": "code",
      "source": [
        "df.head()"
      ],
      "metadata": {
        "colab": {
          "base_uri": "https://localhost:8080/",
          "height": 226
        },
        "id": "NJZ5aciO0KY9",
        "outputId": "8fcdb33d-d1fa-4193-9aa9-c66b1d58d72f"
      },
      "execution_count": null,
      "outputs": [
        {
          "output_type": "execute_result",
          "data": {
            "text/plain": [
              "   person_age  person_income  person_home_ownership  person_emp_length  \\\n",
              "0          22          59000                      3               4.79   \n",
              "1          21           9600                      2               5.00   \n",
              "2          25           9600                      0               1.00   \n",
              "3          23          65500                      3               4.00   \n",
              "4          24          54400                      3               8.00   \n",
              "\n",
              "   loan_intent  loan_grade  loan_amnt  loan_int_rate  loan_status  \\\n",
              "0            4           3      10000          16.02            1   \n",
              "1            1           1       1000          11.14            0   \n",
              "2            3           2       5500          12.87            1   \n",
              "3            3           2      10000          15.23            1   \n",
              "4            3           2      10000          14.27            1   \n",
              "\n",
              "   loan_percent_income  cb_person_default_on_file  cb_person_cred_hist_length  \n",
              "0                 0.17                          1                           3  \n",
              "1                 0.17                          0                           2  \n",
              "2                 0.17                          0                           3  \n",
              "3                 0.17                          0                           2  \n",
              "4                 0.17                          1                           4  "
            ],
            "text/html": [
              "\n",
              "  <div id=\"df-b882b3c0-b0c0-4caa-84c4-7a85f26dd162\" class=\"colab-df-container\">\n",
              "    <div>\n",
              "<style scoped>\n",
              "    .dataframe tbody tr th:only-of-type {\n",
              "        vertical-align: middle;\n",
              "    }\n",
              "\n",
              "    .dataframe tbody tr th {\n",
              "        vertical-align: top;\n",
              "    }\n",
              "\n",
              "    .dataframe thead th {\n",
              "        text-align: right;\n",
              "    }\n",
              "</style>\n",
              "<table border=\"1\" class=\"dataframe\">\n",
              "  <thead>\n",
              "    <tr style=\"text-align: right;\">\n",
              "      <th></th>\n",
              "      <th>person_age</th>\n",
              "      <th>person_income</th>\n",
              "      <th>person_home_ownership</th>\n",
              "      <th>person_emp_length</th>\n",
              "      <th>loan_intent</th>\n",
              "      <th>loan_grade</th>\n",
              "      <th>loan_amnt</th>\n",
              "      <th>loan_int_rate</th>\n",
              "      <th>loan_status</th>\n",
              "      <th>loan_percent_income</th>\n",
              "      <th>cb_person_default_on_file</th>\n",
              "      <th>cb_person_cred_hist_length</th>\n",
              "    </tr>\n",
              "  </thead>\n",
              "  <tbody>\n",
              "    <tr>\n",
              "      <th>0</th>\n",
              "      <td>22</td>\n",
              "      <td>59000</td>\n",
              "      <td>3</td>\n",
              "      <td>4.79</td>\n",
              "      <td>4</td>\n",
              "      <td>3</td>\n",
              "      <td>10000</td>\n",
              "      <td>16.02</td>\n",
              "      <td>1</td>\n",
              "      <td>0.17</td>\n",
              "      <td>1</td>\n",
              "      <td>3</td>\n",
              "    </tr>\n",
              "    <tr>\n",
              "      <th>1</th>\n",
              "      <td>21</td>\n",
              "      <td>9600</td>\n",
              "      <td>2</td>\n",
              "      <td>5.00</td>\n",
              "      <td>1</td>\n",
              "      <td>1</td>\n",
              "      <td>1000</td>\n",
              "      <td>11.14</td>\n",
              "      <td>0</td>\n",
              "      <td>0.17</td>\n",
              "      <td>0</td>\n",
              "      <td>2</td>\n",
              "    </tr>\n",
              "    <tr>\n",
              "      <th>2</th>\n",
              "      <td>25</td>\n",
              "      <td>9600</td>\n",
              "      <td>0</td>\n",
              "      <td>1.00</td>\n",
              "      <td>3</td>\n",
              "      <td>2</td>\n",
              "      <td>5500</td>\n",
              "      <td>12.87</td>\n",
              "      <td>1</td>\n",
              "      <td>0.17</td>\n",
              "      <td>0</td>\n",
              "      <td>3</td>\n",
              "    </tr>\n",
              "    <tr>\n",
              "      <th>3</th>\n",
              "      <td>23</td>\n",
              "      <td>65500</td>\n",
              "      <td>3</td>\n",
              "      <td>4.00</td>\n",
              "      <td>3</td>\n",
              "      <td>2</td>\n",
              "      <td>10000</td>\n",
              "      <td>15.23</td>\n",
              "      <td>1</td>\n",
              "      <td>0.17</td>\n",
              "      <td>0</td>\n",
              "      <td>2</td>\n",
              "    </tr>\n",
              "    <tr>\n",
              "      <th>4</th>\n",
              "      <td>24</td>\n",
              "      <td>54400</td>\n",
              "      <td>3</td>\n",
              "      <td>8.00</td>\n",
              "      <td>3</td>\n",
              "      <td>2</td>\n",
              "      <td>10000</td>\n",
              "      <td>14.27</td>\n",
              "      <td>1</td>\n",
              "      <td>0.17</td>\n",
              "      <td>1</td>\n",
              "      <td>4</td>\n",
              "    </tr>\n",
              "  </tbody>\n",
              "</table>\n",
              "</div>\n",
              "    <div class=\"colab-df-buttons\">\n",
              "\n",
              "  <div class=\"colab-df-container\">\n",
              "    <button class=\"colab-df-convert\" onclick=\"convertToInteractive('df-b882b3c0-b0c0-4caa-84c4-7a85f26dd162')\"\n",
              "            title=\"Convert this dataframe to an interactive table.\"\n",
              "            style=\"display:none;\">\n",
              "\n",
              "  <svg xmlns=\"http://www.w3.org/2000/svg\" height=\"24px\" viewBox=\"0 -960 960 960\">\n",
              "    <path d=\"M120-120v-720h720v720H120Zm60-500h600v-160H180v160Zm220 220h160v-160H400v160Zm0 220h160v-160H400v160ZM180-400h160v-160H180v160Zm440 0h160v-160H620v160ZM180-180h160v-160H180v160Zm440 0h160v-160H620v160Z\"/>\n",
              "  </svg>\n",
              "    </button>\n",
              "\n",
              "  <style>\n",
              "    .colab-df-container {\n",
              "      display:flex;\n",
              "      gap: 12px;\n",
              "    }\n",
              "\n",
              "    .colab-df-convert {\n",
              "      background-color: #E8F0FE;\n",
              "      border: none;\n",
              "      border-radius: 50%;\n",
              "      cursor: pointer;\n",
              "      display: none;\n",
              "      fill: #1967D2;\n",
              "      height: 32px;\n",
              "      padding: 0 0 0 0;\n",
              "      width: 32px;\n",
              "    }\n",
              "\n",
              "    .colab-df-convert:hover {\n",
              "      background-color: #E2EBFA;\n",
              "      box-shadow: 0px 1px 2px rgba(60, 64, 67, 0.3), 0px 1px 3px 1px rgba(60, 64, 67, 0.15);\n",
              "      fill: #174EA6;\n",
              "    }\n",
              "\n",
              "    .colab-df-buttons div {\n",
              "      margin-bottom: 4px;\n",
              "    }\n",
              "\n",
              "    [theme=dark] .colab-df-convert {\n",
              "      background-color: #3B4455;\n",
              "      fill: #D2E3FC;\n",
              "    }\n",
              "\n",
              "    [theme=dark] .colab-df-convert:hover {\n",
              "      background-color: #434B5C;\n",
              "      box-shadow: 0px 1px 3px 1px rgba(0, 0, 0, 0.15);\n",
              "      filter: drop-shadow(0px 1px 2px rgba(0, 0, 0, 0.3));\n",
              "      fill: #FFFFFF;\n",
              "    }\n",
              "  </style>\n",
              "\n",
              "    <script>\n",
              "      const buttonEl =\n",
              "        document.querySelector('#df-b882b3c0-b0c0-4caa-84c4-7a85f26dd162 button.colab-df-convert');\n",
              "      buttonEl.style.display =\n",
              "        google.colab.kernel.accessAllowed ? 'block' : 'none';\n",
              "\n",
              "      async function convertToInteractive(key) {\n",
              "        const element = document.querySelector('#df-b882b3c0-b0c0-4caa-84c4-7a85f26dd162');\n",
              "        const dataTable =\n",
              "          await google.colab.kernel.invokeFunction('convertToInteractive',\n",
              "                                                    [key], {});\n",
              "        if (!dataTable) return;\n",
              "\n",
              "        const docLinkHtml = 'Like what you see? Visit the ' +\n",
              "          '<a target=\"_blank\" href=https://colab.research.google.com/notebooks/data_table.ipynb>data table notebook</a>'\n",
              "          + ' to learn more about interactive tables.';\n",
              "        element.innerHTML = '';\n",
              "        dataTable['output_type'] = 'display_data';\n",
              "        await google.colab.output.renderOutput(dataTable, element);\n",
              "        const docLink = document.createElement('div');\n",
              "        docLink.innerHTML = docLinkHtml;\n",
              "        element.appendChild(docLink);\n",
              "      }\n",
              "    </script>\n",
              "  </div>\n",
              "\n",
              "\n",
              "<div id=\"df-bd932d38-ce66-4ea4-9801-6ee48f90fe28\">\n",
              "  <button class=\"colab-df-quickchart\" onclick=\"quickchart('df-bd932d38-ce66-4ea4-9801-6ee48f90fe28')\"\n",
              "            title=\"Suggest charts\"\n",
              "            style=\"display:none;\">\n",
              "\n",
              "<svg xmlns=\"http://www.w3.org/2000/svg\" height=\"24px\"viewBox=\"0 0 24 24\"\n",
              "     width=\"24px\">\n",
              "    <g>\n",
              "        <path d=\"M19 3H5c-1.1 0-2 .9-2 2v14c0 1.1.9 2 2 2h14c1.1 0 2-.9 2-2V5c0-1.1-.9-2-2-2zM9 17H7v-7h2v7zm4 0h-2V7h2v10zm4 0h-2v-4h2v4z\"/>\n",
              "    </g>\n",
              "</svg>\n",
              "  </button>\n",
              "\n",
              "<style>\n",
              "  .colab-df-quickchart {\n",
              "      --bg-color: #E8F0FE;\n",
              "      --fill-color: #1967D2;\n",
              "      --hover-bg-color: #E2EBFA;\n",
              "      --hover-fill-color: #174EA6;\n",
              "      --disabled-fill-color: #AAA;\n",
              "      --disabled-bg-color: #DDD;\n",
              "  }\n",
              "\n",
              "  [theme=dark] .colab-df-quickchart {\n",
              "      --bg-color: #3B4455;\n",
              "      --fill-color: #D2E3FC;\n",
              "      --hover-bg-color: #434B5C;\n",
              "      --hover-fill-color: #FFFFFF;\n",
              "      --disabled-bg-color: #3B4455;\n",
              "      --disabled-fill-color: #666;\n",
              "  }\n",
              "\n",
              "  .colab-df-quickchart {\n",
              "    background-color: var(--bg-color);\n",
              "    border: none;\n",
              "    border-radius: 50%;\n",
              "    cursor: pointer;\n",
              "    display: none;\n",
              "    fill: var(--fill-color);\n",
              "    height: 32px;\n",
              "    padding: 0;\n",
              "    width: 32px;\n",
              "  }\n",
              "\n",
              "  .colab-df-quickchart:hover {\n",
              "    background-color: var(--hover-bg-color);\n",
              "    box-shadow: 0 1px 2px rgba(60, 64, 67, 0.3), 0 1px 3px 1px rgba(60, 64, 67, 0.15);\n",
              "    fill: var(--button-hover-fill-color);\n",
              "  }\n",
              "\n",
              "  .colab-df-quickchart-complete:disabled,\n",
              "  .colab-df-quickchart-complete:disabled:hover {\n",
              "    background-color: var(--disabled-bg-color);\n",
              "    fill: var(--disabled-fill-color);\n",
              "    box-shadow: none;\n",
              "  }\n",
              "\n",
              "  .colab-df-spinner {\n",
              "    border: 2px solid var(--fill-color);\n",
              "    border-color: transparent;\n",
              "    border-bottom-color: var(--fill-color);\n",
              "    animation:\n",
              "      spin 1s steps(1) infinite;\n",
              "  }\n",
              "\n",
              "  @keyframes spin {\n",
              "    0% {\n",
              "      border-color: transparent;\n",
              "      border-bottom-color: var(--fill-color);\n",
              "      border-left-color: var(--fill-color);\n",
              "    }\n",
              "    20% {\n",
              "      border-color: transparent;\n",
              "      border-left-color: var(--fill-color);\n",
              "      border-top-color: var(--fill-color);\n",
              "    }\n",
              "    30% {\n",
              "      border-color: transparent;\n",
              "      border-left-color: var(--fill-color);\n",
              "      border-top-color: var(--fill-color);\n",
              "      border-right-color: var(--fill-color);\n",
              "    }\n",
              "    40% {\n",
              "      border-color: transparent;\n",
              "      border-right-color: var(--fill-color);\n",
              "      border-top-color: var(--fill-color);\n",
              "    }\n",
              "    60% {\n",
              "      border-color: transparent;\n",
              "      border-right-color: var(--fill-color);\n",
              "    }\n",
              "    80% {\n",
              "      border-color: transparent;\n",
              "      border-right-color: var(--fill-color);\n",
              "      border-bottom-color: var(--fill-color);\n",
              "    }\n",
              "    90% {\n",
              "      border-color: transparent;\n",
              "      border-bottom-color: var(--fill-color);\n",
              "    }\n",
              "  }\n",
              "</style>\n",
              "\n",
              "  <script>\n",
              "    async function quickchart(key) {\n",
              "      const quickchartButtonEl =\n",
              "        document.querySelector('#' + key + ' button');\n",
              "      quickchartButtonEl.disabled = true;  // To prevent multiple clicks.\n",
              "      quickchartButtonEl.classList.add('colab-df-spinner');\n",
              "      try {\n",
              "        const charts = await google.colab.kernel.invokeFunction(\n",
              "            'suggestCharts', [key], {});\n",
              "      } catch (error) {\n",
              "        console.error('Error during call to suggestCharts:', error);\n",
              "      }\n",
              "      quickchartButtonEl.classList.remove('colab-df-spinner');\n",
              "      quickchartButtonEl.classList.add('colab-df-quickchart-complete');\n",
              "    }\n",
              "    (() => {\n",
              "      let quickchartButtonEl =\n",
              "        document.querySelector('#df-bd932d38-ce66-4ea4-9801-6ee48f90fe28 button');\n",
              "      quickchartButtonEl.style.display =\n",
              "        google.colab.kernel.accessAllowed ? 'block' : 'none';\n",
              "    })();\n",
              "  </script>\n",
              "</div>\n",
              "\n",
              "    </div>\n",
              "  </div>\n"
            ],
            "application/vnd.google.colaboratory.intrinsic+json": {
              "type": "dataframe",
              "variable_name": "df",
              "summary": "{\n  \"name\": \"df\",\n  \"rows\": 28638,\n  \"fields\": [\n    {\n      \"column\": \"person_age\",\n      \"properties\": {\n        \"dtype\": \"number\",\n        \"std\": 6,\n        \"min\": 20,\n        \"max\": 80,\n        \"num_unique_values\": 54,\n        \"samples\": [\n          39,\n          73,\n          56\n        ],\n        \"semantic_type\": \"\",\n        \"description\": \"\"\n      }\n    },\n    {\n      \"column\": \"person_income\",\n      \"properties\": {\n        \"dtype\": \"number\",\n        \"std\": 19831,\n        \"min\": 4000,\n        \"max\": 100000,\n        \"num_unique_values\": 3138,\n        \"samples\": [\n          88800,\n          45243,\n          34416\n        ],\n        \"semantic_type\": \"\",\n        \"description\": \"\"\n      }\n    },\n    {\n      \"column\": \"person_home_ownership\",\n      \"properties\": {\n        \"dtype\": \"number\",\n        \"std\": 1,\n        \"min\": 0,\n        \"max\": 3,\n        \"num_unique_values\": 4,\n        \"samples\": [\n          2,\n          1,\n          3\n        ],\n        \"semantic_type\": \"\",\n        \"description\": \"\"\n      }\n    },\n    {\n      \"column\": \"person_emp_length\",\n      \"properties\": {\n        \"dtype\": \"number\",\n        \"std\": 4.029777739071306,\n        \"min\": 0.0,\n        \"max\": 38.0,\n        \"num_unique_values\": 35,\n        \"samples\": [\n          26.0,\n          18.0,\n          24.0\n        ],\n        \"semantic_type\": \"\",\n        \"description\": \"\"\n      }\n    },\n    {\n      \"column\": \"loan_intent\",\n      \"properties\": {\n        \"dtype\": \"number\",\n        \"std\": 1,\n        \"min\": 0,\n        \"max\": 5,\n        \"num_unique_values\": 6,\n        \"samples\": [\n          4,\n          1,\n          0\n        ],\n        \"semantic_type\": \"\",\n        \"description\": \"\"\n      }\n    },\n    {\n      \"column\": \"loan_grade\",\n      \"properties\": {\n        \"dtype\": \"number\",\n        \"std\": 1,\n        \"min\": 0,\n        \"max\": 6,\n        \"num_unique_values\": 7,\n        \"samples\": [\n          3,\n          1,\n          5\n        ],\n        \"semantic_type\": \"\",\n        \"description\": \"\"\n      }\n    },\n    {\n      \"column\": \"loan_amnt\",\n      \"properties\": {\n        \"dtype\": \"number\",\n        \"std\": 5992,\n        \"min\": 1000,\n        \"max\": 30000,\n        \"num_unique_values\": 708,\n        \"samples\": [\n          19000,\n          5125,\n          4975\n        ],\n        \"semantic_type\": \"\",\n        \"description\": \"\"\n      }\n    },\n    {\n      \"column\": \"loan_int_rate\",\n      \"properties\": {\n        \"dtype\": \"number\",\n        \"std\": 3.1909924757593133,\n        \"min\": 5.42,\n        \"max\": 19.91,\n        \"num_unique_values\": 322,\n        \"samples\": [\n          10.0,\n          9.33,\n          9.45\n        ],\n        \"semantic_type\": \"\",\n        \"description\": \"\"\n      }\n    },\n    {\n      \"column\": \"loan_status\",\n      \"properties\": {\n        \"dtype\": \"number\",\n        \"std\": 0,\n        \"min\": 0,\n        \"max\": 1,\n        \"num_unique_values\": 2,\n        \"samples\": [\n          0,\n          1\n        ],\n        \"semantic_type\": \"\",\n        \"description\": \"\"\n      }\n    },\n    {\n      \"column\": \"loan_percent_income\",\n      \"properties\": {\n        \"dtype\": \"number\",\n        \"std\": 0.06790745749347746,\n        \"min\": 0.17,\n        \"max\": 0.5,\n        \"num_unique_values\": 32,\n        \"samples\": [\n          0.24,\n          0.27\n        ],\n        \"semantic_type\": \"\",\n        \"description\": \"\"\n      }\n    },\n    {\n      \"column\": \"cb_person_default_on_file\",\n      \"properties\": {\n        \"dtype\": \"number\",\n        \"std\": 0,\n        \"min\": 0,\n        \"max\": 1,\n        \"num_unique_values\": 2,\n        \"samples\": [\n          0,\n          1\n        ],\n        \"semantic_type\": \"\",\n        \"description\": \"\"\n      }\n    },\n    {\n      \"column\": \"cb_person_cred_hist_length\",\n      \"properties\": {\n        \"dtype\": \"number\",\n        \"std\": 3,\n        \"min\": 2,\n        \"max\": 20,\n        \"num_unique_values\": 19,\n        \"samples\": [\n          3,\n          6\n        ],\n        \"semantic_type\": \"\",\n        \"description\": \"\"\n      }\n    }\n  ]\n}"
            }
          },
          "metadata": {},
          "execution_count": 51
        }
      ]
    },
    {
      "cell_type": "markdown",
      "source": [
        "**Splitting Data frame to X and Y Features**"
      ],
      "metadata": {
        "id": "7H2FoysQ3116"
      }
    },
    {
      "cell_type": "code",
      "source": [
        "x=df.drop(['loan_status'],axis=1).values\n",
        "y=df['loan_status'].values"
      ],
      "metadata": {
        "id": "CuJI7Nes1Bfw"
      },
      "execution_count": null,
      "outputs": []
    },
    {
      "cell_type": "code",
      "source": [
        "x"
      ],
      "metadata": {
        "colab": {
          "base_uri": "https://localhost:8080/"
        },
        "id": "YGoq8vbS1aN9",
        "outputId": "c4882c3e-e731-4869-a040-475efdcb8f9e"
      },
      "execution_count": null,
      "outputs": [
        {
          "output_type": "execute_result",
          "data": {
            "text/plain": [
              "array([[2.2e+01, 5.9e+04, 3.0e+00, ..., 1.7e-01, 1.0e+00, 3.0e+00],\n",
              "       [2.1e+01, 9.6e+03, 2.0e+00, ..., 1.7e-01, 0.0e+00, 2.0e+00],\n",
              "       [2.5e+01, 9.6e+03, 0.0e+00, ..., 1.7e-01, 0.0e+00, 3.0e+00],\n",
              "       ...,\n",
              "       [6.5e+01, 7.6e+04, 3.0e+00, ..., 4.6e-01, 0.0e+00, 3.0e+00],\n",
              "       [5.6e+01, 6.0e+04, 0.0e+00, ..., 1.7e-01, 0.0e+00, 3.0e+00],\n",
              "       [6.6e+01, 4.2e+04, 3.0e+00, ..., 1.7e-01, 0.0e+00, 3.0e+00]])"
            ]
          },
          "metadata": {},
          "execution_count": 53
        }
      ]
    },
    {
      "cell_type": "code",
      "source": [
        "x.shape"
      ],
      "metadata": {
        "colab": {
          "base_uri": "https://localhost:8080/"
        },
        "id": "EdRjOWSx3GDv",
        "outputId": "854cf47a-6cbc-4272-9621-79a361a73536"
      },
      "execution_count": null,
      "outputs": [
        {
          "output_type": "execute_result",
          "data": {
            "text/plain": [
              "(28638, 11)"
            ]
          },
          "metadata": {},
          "execution_count": 54
        }
      ]
    },
    {
      "cell_type": "code",
      "source": [
        "y"
      ],
      "metadata": {
        "colab": {
          "base_uri": "https://localhost:8080/"
        },
        "id": "QVnUth1K1cmi",
        "outputId": "9501ba3a-1d26-42ee-9306-724dac8fafe6"
      },
      "execution_count": null,
      "outputs": [
        {
          "output_type": "execute_result",
          "data": {
            "text/plain": [
              "array([1, 0, 1, ..., 1, 0, 0])"
            ]
          },
          "metadata": {},
          "execution_count": 55
        }
      ]
    },
    {
      "cell_type": "code",
      "source": [
        "y.shape"
      ],
      "metadata": {
        "colab": {
          "base_uri": "https://localhost:8080/"
        },
        "id": "BEQUgik63LMn",
        "outputId": "7b62986e-8dac-4736-c590-6a223e164e96"
      },
      "execution_count": null,
      "outputs": [
        {
          "output_type": "execute_result",
          "data": {
            "text/plain": [
              "(28638,)"
            ]
          },
          "metadata": {},
          "execution_count": 56
        }
      ]
    },
    {
      "cell_type": "code",
      "source": [
        "x_train,x_test,y_train,y_test=train_test_split(x,y,test_size=0.2,random_state=42)\n"
      ],
      "metadata": {
        "id": "g0Py-vDh0uDR"
      },
      "execution_count": null,
      "outputs": []
    },
    {
      "cell_type": "code",
      "source": [
        "scaler=StandardScaler()\n",
        "scaler.fit(x_train)\n",
        "x_train=scaler.transform(x_train)\n",
        "x_test=scaler.transform(x_test)"
      ],
      "metadata": {
        "id": "3jGr5BTH1xZc"
      },
      "execution_count": null,
      "outputs": []
    },
    {
      "cell_type": "markdown",
      "source": [
        "**Model Creation**"
      ],
      "metadata": {
        "id": "ONDKo2I54Hx6"
      }
    },
    {
      "cell_type": "code",
      "source": [
        "# from sklearn.neighbors import KNeighborsClassifier\n",
        "from sklearn.tree import DecisionTreeClassifier\n",
        "# knn=KNeighborsClassifier(n_neighbors=5)\n",
        "tree=DecisionTreeClassifier(criterion='entropy')\n",
        "tree.fit(x_train,y_train)\n",
        "y_pred=tree.predict(x_test)\n",
        "y_pred"
      ],
      "metadata": {
        "colab": {
          "base_uri": "https://localhost:8080/"
        },
        "id": "hEMboQ062O2t",
        "outputId": "2d4e4546-f188-41d9-b80b-a0ee4d8dad24"
      },
      "execution_count": null,
      "outputs": [
        {
          "output_type": "execute_result",
          "data": {
            "text/plain": [
              "array([0, 1, 0, ..., 0, 0, 0])"
            ]
          },
          "metadata": {},
          "execution_count": 59
        }
      ]
    },
    {
      "cell_type": "markdown",
      "source": [
        "**Performance Evaluation**"
      ],
      "metadata": {
        "id": "hkNw_l5N4SUb"
      }
    },
    {
      "cell_type": "code",
      "source": [
        "score=accuracy_score(y_test,y_pred)\n",
        "score"
      ],
      "metadata": {
        "colab": {
          "base_uri": "https://localhost:8080/"
        },
        "id": "FcTlJP0a2j8o",
        "outputId": "c1f7537f-a9d5-4dfe-b124-e26b0e42d13a"
      },
      "execution_count": null,
      "outputs": [
        {
          "output_type": "execute_result",
          "data": {
            "text/plain": [
              "0.8901885474860335"
            ]
          },
          "metadata": {},
          "execution_count": 60
        }
      ]
    },
    {
      "cell_type": "code",
      "source": [
        "cm=confusion_matrix(y_test,y_pred)\n",
        "cm"
      ],
      "metadata": {
        "colab": {
          "base_uri": "https://localhost:8080/"
        },
        "id": "XK4iCLLHuHVc",
        "outputId": "6b85e180-612d-4494-974d-bc9c1c99d69c"
      },
      "execution_count": null,
      "outputs": [
        {
          "output_type": "execute_result",
          "data": {
            "text/plain": [
              "array([[4113,  330],\n",
              "       [ 299,  986]])"
            ]
          },
          "metadata": {},
          "execution_count": 61
        }
      ]
    },
    {
      "cell_type": "code",
      "source": [
        "y_train"
      ],
      "metadata": {
        "colab": {
          "base_uri": "https://localhost:8080/"
        },
        "id": "eZw738A9ujPg",
        "outputId": "ae4732dc-d50d-499d-87e5-7305b2165466"
      },
      "execution_count": null,
      "outputs": [
        {
          "output_type": "execute_result",
          "data": {
            "text/plain": [
              "array([0, 0, 0, ..., 0, 0, 0])"
            ]
          },
          "metadata": {},
          "execution_count": 62
        }
      ]
    },
    {
      "cell_type": "code",
      "source": [
        "labels=[0,1]\n",
        "cmd=ConfusionMatrixDisplay(cm,display_labels=labels)\n",
        "cmd.plot()"
      ],
      "metadata": {
        "colab": {
          "base_uri": "https://localhost:8080/",
          "height": 466
        },
        "id": "PBI0npp2ugyg",
        "outputId": "8364ebdd-4c59-45c9-cbde-072b9fb9ef83"
      },
      "execution_count": null,
      "outputs": [
        {
          "output_type": "execute_result",
          "data": {
            "text/plain": [
              "<sklearn.metrics._plot.confusion_matrix.ConfusionMatrixDisplay at 0x7f602649ecb0>"
            ]
          },
          "metadata": {},
          "execution_count": 63
        },
        {
          "output_type": "display_data",
          "data": {
            "text/plain": [
              "<Figure size 640x480 with 2 Axes>"
            ],
            "image/png": "[encoded data removed]"
          },
          "metadata": {}
        }
      ]
    },
    {
      "cell_type": "code",
      "source": [
        "report=classification_report(y_test,y_pred)\n",
        "print(report)"
      ],
      "metadata": {
        "colab": {
          "base_uri": "https://localhost:8080/"
        },
        "id": "tI_hRuWeYYnP",
        "outputId": "e188ffb5-376d-402f-8d51-e94e6133a164"
      },
      "execution_count": null,
      "outputs": [
        {
          "output_type": "stream",
          "name": "stdout",
          "text": [
            "              precision    recall  f1-score   support\n",
            "\n",
            "           0       0.93      0.93      0.93      4443\n",
            "           1       0.75      0.77      0.76      1285\n",
            "\n",
            "    accuracy                           0.89      5728\n",
            "   macro avg       0.84      0.85      0.84      5728\n",
            "weighted avg       0.89      0.89      0.89      5728\n",
            "\n"
          ]
        }
      ]
    }
  ]
}